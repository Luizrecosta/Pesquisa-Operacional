{
  "cells": [
    {
      "cell_type": "markdown",
      "metadata": {
        "id": "btv0znHmsR5D"
      },
      "source": [
        "# Aula prática: Mix de Produção\n",
        "<sup>Adaptado dos exercícios 2.3 e 2.5 do livro `Pesquisa Operacional`, de `Arenales, Armentano, Morabito e Yanasse`.</sup>"
      ]
    },
    {
      "cell_type": "markdown",
      "metadata": {
        "id": "0hUSOEftsR5E"
      },
      "source": [
        "## Exercício 1"
      ]
    },
    {
      "cell_type": "markdown",
      "metadata": {
        "id": "T_SOsXELsR5E"
      },
      "source": [
        "### Descrição do problema\n",
        "Uma fundição tem de produzir 10 toneladas de um tipo de liga metálica e, para isso, tem disponível: lingotes de ferro, grafite e sucata. Dois componentes são relevantes para a liga: carbono e silício. As tabelas a seguir fornecem a fração, em termos percentuais, desses elementos nos ingredientes disponíveis, seus custos unitários, bem como a composição da liga (isto é, porcentagens mínima e máxima de cada componente da liga).\n",
        "\n",
        "Frações dos elementos (%) nos ingredientes e custo dos ingredientes (R$/ton):\n",
        "\n",
        "| | Lingotes | Grafite | Sucata |\n",
        "|:---|:---:|:---:|:---:|\n",
        "| Carbono | 0.5 | 90 | 9 |\n",
        "| Silício | 14 | - | 27 |\n",
        "| Custo | 90 | 180 | 25 |\n",
        "\n",
        "Frações (%) mínima e máxima dos componentes na liga:\n",
        "\n",
        "| | min | max |\n",
        "|:---|:---:|:---:|\n",
        "|Carbono | 0.0 | 9.5 |\n",
        "|Silício | 19 | 20 |\n",
        "\n",
        "\n",
        "Escreva um modelo de otimização linear para determinar as quantidades dos ingredientes para compor a liga metálica, de modo que as especificações técnicas sejam satisfeitas e o custo seja mínimo."
      ]
    },
    {
      "cell_type": "markdown",
      "metadata": {
        "id": "EtPxBakTtQbV"
      },
      "source": [
        "### Resolução"
      ]
    },
    {
      "cell_type": "code",
      "source": [
        "!pip install pulp"
      ],
      "metadata": {
        "colab": {
          "base_uri": "https://localhost:8080/"
        },
        "id": "cuqs_STE3jsr",
        "outputId": "e2cca161-96b0-41eb-ffb4-568dede112aa"
      },
      "execution_count": 2,
      "outputs": [
        {
          "output_type": "stream",
          "name": "stdout",
          "text": [
            "Collecting pulp\n",
            "  Downloading PuLP-2.9.0-py3-none-any.whl.metadata (5.4 kB)\n",
            "Downloading PuLP-2.9.0-py3-none-any.whl (17.7 MB)\n",
            "\u001b[2K   \u001b[90m━━━━━━━━━━━━━━━━━━━━━━━━━━━━━━━━━━━━━━━━\u001b[0m \u001b[32m17.7/17.7 MB\u001b[0m \u001b[31m3.8 MB/s\u001b[0m eta \u001b[36m0:00:00\u001b[0m\n",
            "\u001b[?25hInstalling collected packages: pulp\n",
            "Successfully installed pulp-2.9.0\n"
          ]
        }
      ]
    },
    {
      "cell_type": "code",
      "execution_count": 1,
      "metadata": {
        "id": "7pMG-i60tGC4",
        "outputId": "3b9220fb-a012-49da-c784-599287628ec2",
        "colab": {
          "base_uri": "https://localhost:8080/"
        }
      },
      "outputs": [
        {
          "output_type": "stream",
          "name": "stdout",
          "text": [
            "Requirement already satisfied: mip in /usr/local/lib/python3.10/dist-packages (1.15.0)\n",
            "Requirement already satisfied: cffi==1.15.* in /usr/local/lib/python3.10/dist-packages (from mip) (1.15.1)\n",
            "Requirement already satisfied: pycparser in /usr/local/lib/python3.10/dist-packages (from cffi==1.15.*->mip) (2.22)\n"
          ]
        }
      ],
      "source": [
        "# instalação e importação do pacote mip\n",
        "!pip install mip\n",
        "\n",
        "from mip import *"
      ]
    },
    {
      "cell_type": "markdown",
      "metadata": {
        "id": "Soe9owdkxmmg"
      },
      "source": [
        "Carrega Dados"
      ]
    },
    {
      "cell_type": "code",
      "execution_count": 32,
      "metadata": {
        "id": "1foz1NwTtzuH",
        "colab": {
          "base_uri": "https://localhost:8080/"
        },
        "outputId": "c90f83ae-0816-4e8e-845f-69c11e715f0f"
      },
      "outputs": [
        {
          "output_type": "stream",
          "name": "stdout",
          "text": [
            "0.005\n"
          ]
        }
      ],
      "source": [
        "# composição de cada ingrediente\n",
        "a = {\n",
        "    'l': {'c': 0.005, 's': 0.14},\n",
        "    'g': {'c': 0.9,   's': 0.0},\n",
        "    's': {'c': 0.09,  's': 0.27},\n",
        "}\n",
        "\n",
        "# custo\n",
        "c = {'l': 90, 'g': 180, 's': 25}\n",
        "\n",
        "# composições mínimas e máximas dos componentes\n",
        "n = {'c': 0.0, 's': 0.19}  # min\n",
        "m = {'c': 0.095, 's': 0.2} # max\n",
        "\n",
        "# 00.5L + 0.9g +0.09s==0.095\n",
        "#0.14*l + 0*g + 0.27*s>=0.19\n",
        "#0.14*l + 0*g + 0.27*s<=0.2\n",
        "\n",
        "\n",
        "\n",
        "# quantidade desejada da liga\n",
        "Q = 10\n",
        "print(a['l']['c'])"
      ]
    },
    {
      "cell_type": "markdown",
      "metadata": {
        "id": "1tHfPbSfxp_k"
      },
      "source": [
        "Cria modelo"
      ]
    },
    {
      "cell_type": "code",
      "source": [
        "import pulp\n",
        "x = {t: pulp.LpVariable(f\"x{t}\",lowBound=0, cat='Continous') for t in c.keys() }\n",
        "\n",
        "y= [sum(j[k]*x[i] for i,j in a.items()) for k in n.keys() ]\n",
        "\n",
        "print(y)"
      ],
      "metadata": {
        "colab": {
          "base_uri": "https://localhost:8080/"
        },
        "id": "OJNOMJ7k6Wml",
        "outputId": "8800b749-78e2-4ffe-a9cc-fc8e1473d03f"
      },
      "execution_count": 45,
      "outputs": [
        {
          "output_type": "stream",
          "name": "stdout",
          "text": [
            "[0.9*xg + 0.005*xl + 0.09*xs + 0.0, 0.14*xl + 0.27*xs + 0.0]\n"
          ]
        }
      ]
    },
    {
      "cell_type": "code",
      "source": [
        "# Importar a biblioteca PuLP\n",
        "import pulp\n",
        "\n",
        "# Passo 1: Criar o problema de otimização\n",
        "# 'LpMaximize' indica que queremos maximizar a função objetivo\n",
        "problema = pulp.LpProblem(\"Problema_MIP_Exemplo\", pulp.LpMinimize)\n",
        "\n",
        "# Passo 2: Definir as variáveis de decisão\n",
        "# Exemplo de variáveis inteiras e binárias\n",
        "\n",
        "x = {t: pulp.LpVariable(f\"x{t}\",lowBound=0, cat='Continous') for t in c.keys() }\n",
        "\n",
        "y= [sum(j[k]*x[i] for i,j in a.items()) for k in n.keys() ]\n",
        "\n",
        "\n",
        "# Passo 3: Definir a função objetivo\n",
        "# Exemplo: Maximizar 3x + 4y - 2z\n",
        "problema +=sum(c[t]*x[t] for t in c.keys()), \"Função_Objetivo\"\n",
        "\n",
        "print(f\"Função objetivo: {(problema.objective)}\")\n",
        "# Passo 4: Definir as restrições\n",
        "# Exemplo de restrições:\n",
        "# Restrição 1: x + 2y ≤ 10\n",
        "problema += sum(x.values()) == 10,\"Restrição_4\"\n",
        "\n",
        "\n",
        "problema += y[0]<= 0.95, \"Restrição_1\"\n",
        "problema += y[1]<= 2, \"Restrição_2\"\n",
        "problema += y[1]>= 1.9, \"Restrição_3\"\n",
        "\n",
        "for name, constraint in problema.constraints.items():\n",
        "    print(f\"{name}: {constraint}\")\n",
        "\n",
        "# Passo 5: Resolver o problema\n",
        "problema.solve()\n",
        "\n",
        "# Passo 6: Exibir o status da solução\n",
        "print(f\"Status: {pulp.LpStatus[problema.status]}\")\n",
        "\n",
        "# Passo 7: Exibir os valores ótimos das variáveis\n",
        "for v in problema.variables():\n",
        "    print(f\"{v.name} = {v.varValue:.2f}\")\n",
        "\n",
        "# Passo 8: Exibir o valor da função objetivo\n",
        "print(f\"Valor ótimo da função objetivo = {pulp.value(problema.objective):.2f}\")\n"
      ],
      "metadata": {
        "id": "woEL0ub3W17Q",
        "outputId": "46322d6e-d8fd-4a98-b0e2-23c64a389a71",
        "colab": {
          "base_uri": "https://localhost:8080/"
        }
      },
      "execution_count": 65,
      "outputs": [
        {
          "output_type": "stream",
          "name": "stdout",
          "text": [
            "Função objetivo: 180*xg + 90*xl + 25*xs\n",
            "Restrição_4: xg + xl + xs = 10\n",
            "Restrição_1: 0.9*xg + 0.005*xl + 0.09*xs <= 0.95\n",
            "Restrição_2: 0.14*xl + 0.27*xs <= 2.0\n",
            "Restrição_3: 0.14*xl + 0.27*xs >= 1.9\n",
            "Status: Optimal\n",
            "xg = 0.00\n",
            "xl = 5.38\n",
            "xs = 4.62\n",
            "Valor ótimo da função objetivo = 600.00\n"
          ]
        }
      ]
    },
    {
      "cell_type": "markdown",
      "metadata": {
        "id": "dC0dH9Vgx11z"
      },
      "source": [
        "Executa"
      ]
    },
    {
      "cell_type": "markdown",
      "metadata": {
        "id": "0Sp8kCaGsR5E"
      },
      "source": [
        "## Exercício 2"
      ]
    },
    {
      "cell_type": "markdown",
      "metadata": {
        "id": "7PPfPnU7sR5E"
      },
      "source": [
        "Agora considere que os ingredientes tem o estoque limitado, de acordo com a tabela abaixo.\n",
        "\n",
        "| | Lingotes | Grafite | Sucata |\n",
        "|:---|:---:|:---:|:---:|\n",
        "| Estoque (ton) | 5 | 5 | 12 |\n",
        "\n",
        "Como o modelo pode ser modificado para atender a esse requisito?"
      ]
    },
    {
      "cell_type": "markdown",
      "metadata": {
        "id": "fSrbmrBD0fb9"
      },
      "source": [
        "### Código"
      ]
    },
    {
      "cell_type": "markdown",
      "metadata": {
        "id": "2iAz0aU99Dxo"
      },
      "source": [
        "Carrega Dados"
      ]
    },
    {
      "cell_type": "code",
      "execution_count": null,
      "metadata": {
        "id": "Yz_PtRT89GxZ"
      },
      "outputs": [],
      "source": [
        "# estoque\n",
        "e = {'l': 5, 'g': 5, 's': 12}"
      ]
    },
    {
      "cell_type": "code",
      "source": [],
      "metadata": {
        "colab": {
          "base_uri": "https://localhost:8080/"
        },
        "id": "J-lgBl1wJ40E",
        "outputId": "aa6289d5-aa5c-4924-9813-e58504b148cb"
      },
      "execution_count": 69,
      "outputs": [
        {
          "output_type": "stream",
          "name": "stdout",
          "text": [
            "[0.9*xg + 0.005*xl + 0.09*xs + 0.0, 0.14*xl + 0.27*xs + 0.0]\n"
          ]
        }
      ]
    },
    {
      "cell_type": "markdown",
      "metadata": {
        "id": "s9G5Hep50y0V"
      },
      "source": [
        "Cria modelo"
      ]
    },
    {
      "cell_type": "code",
      "source": [
        "# Importar a biblioteca PuLP\n",
        "import pulp\n",
        "\n",
        "# Passo 1: Criar o problema de otimização\n",
        "# 'LpMaximize' indica que queremos maximizar a função objetivo\n",
        "problema = pulp.LpProblem(\"Problema_MIP_Exemplo\", pulp.LpMinimize)\n",
        "\n",
        "# Passo 2: Definir as variáveis de decisão\n",
        "# Exemplo de variáveis inteiras e binárias\n",
        "\n",
        "x = {t: pulp.LpVariable(f\"x{t}\",lowBound=0, cat='Continous') for t in c.keys() }\n",
        "\n",
        "y= [sum(j[k]*x[i] for i,j in a.items()) for k in n.keys() ]\n",
        "\n",
        "\n",
        "# Passo 3: Definir a função objetivo\n",
        "# Exemplo: Maximizar 3x + 4y - 2z\n",
        "problema +=sum(c[t]*x[t] for t in c.keys()), \"Função_Objetivo\"\n",
        "\n",
        "print(f\"Função objetivo: {(problema.objective)}\")\n",
        "# Passo 4: Definir as restrições\n",
        "# Exemplo de restrições:\n",
        "# Restrição 1: x + 2y ≤ 10\n",
        "problema += sum(x.values()) == 10,\"Restrição_4\"\n",
        "problema += y[0]<= 0.95, \"Restrição_1\"\n",
        "problema += y[1]<= 2, \"Restrição_2\"\n",
        "problema += y[1]>= 1.9, \"Restrição_3\"\n",
        "problema += x['l']<= 5, \"Restrição_5\"\n",
        "problema += x['g']<= 5, \"Restrição_6\"\n",
        "problema += x['s']<= 12, \"Restrição_7\"\n",
        "\n",
        "for name, constraint in problema.constraints.items():\n",
        "    print(f\"{name}: {constraint}\")\n",
        "\n",
        "# Passo 5: Resolver o problema\n",
        "problema.solve()\n",
        "\n",
        "# Passo 6: Exibir o status da solução\n",
        "print(f\"Status: {pulp.LpStatus[problema.status]}\")\n",
        "\n",
        "# Passo 7: Exibir os valores ótimos das variáveis\n",
        "for v in problema.variables():\n",
        "    print(f\"{v.name} = {v.varValue:.2f}\")\n",
        "\n",
        "# Passo 8: Exibir o valor da função objetivo\n",
        "print(f\"Valor ótimo da função objetivo = {pulp.value(problema.objective):.2f}\")\n"
      ],
      "metadata": {
        "id": "Ez6lX92UZxBU",
        "colab": {
          "base_uri": "https://localhost:8080/"
        },
        "outputId": "f6957114-02a1-47a2-8f17-2dea08ed0ba2"
      },
      "execution_count": 66,
      "outputs": [
        {
          "output_type": "stream",
          "name": "stdout",
          "text": [
            "Função objetivo: 180*xg + 90*xl + 25*xs\n",
            "Restrição_4: xg + xl + xs = 10\n",
            "Restrição_1: 0.9*xg + 0.005*xl + 0.09*xs <= 0.95\n",
            "Restrição_2: 0.14*xl + 0.27*xs <= 2.0\n",
            "Restrição_3: 0.14*xl + 0.27*xs >= 1.9\n",
            "Restrição_5: xl <= 5\n",
            "Restrição_6: xg <= 5\n",
            "Restrição_7: xs <= 12\n",
            "Status: Optimal\n",
            "xg = 0.19\n",
            "xl = 5.00\n",
            "xs = 4.81\n",
            "Valor ótimo da função objetivo = 603.70\n"
          ]
        }
      ]
    },
    {
      "cell_type": "markdown",
      "metadata": {
        "id": "Ue3ahEFA01L_"
      },
      "source": [
        "Executa"
      ]
    },
    {
      "cell_type": "markdown",
      "metadata": {
        "id": "2mE7ipJPsR5F"
      },
      "source": [
        "## Exercício 3"
      ]
    },
    {
      "cell_type": "markdown",
      "metadata": {
        "id": "-Er_QuwBsR5F"
      },
      "source": [
        "Suponha agora que duas ligas metálicas devem ser preparadas e os mesmos ingredientes são utilizados em ambas. A liga especificada no Exercício 1 é referida como liga 1 e devem ser produzidas 10 toneladas desta liga. Da outra liga, referida como liga 2, devem ser produzidas 6 toneladas e suas composições mínima e máxima são dadas na tabela abaixo.\n",
        "\n",
        "| | min | max |\n",
        "|:---|:---:|:---:|\n",
        "|Carbono | 0.00 | 40 |\n",
        "|Silício | 12 | 19 |\n"
      ]
    },
    {
      "cell_type": "markdown",
      "metadata": {
        "id": "Ay3bSczF1Ldt"
      },
      "source": [
        "### Código"
      ]
    },
    {
      "cell_type": "markdown",
      "metadata": {
        "id": "v12Efn0tMq3m"
      },
      "source": [
        "Carrega dados"
      ]
    },
    {
      "cell_type": "markdown",
      "metadata": {
        "id": "xMEEKulx1SN9"
      },
      "source": [
        "Cria modelo"
      ]
    },
    {
      "cell_type": "code",
      "source": [
        "# Importar a biblioteca PuLP\n",
        "import pulp\n",
        "\n",
        "# Passo 1: Criar o problema de otimização\n",
        "# 'LpMaximize' indica que queremos maximizar a função objetivo\n",
        "problema = pulp.LpProblem(\"Problema_MIP_Exemplo\", pulp.LpMinimize)\n",
        "\n",
        "# Passo 2: Definir as variáveis de decisão\n",
        "# Exemplo de variáveis inteiras e binárias\n",
        "\n",
        "x = {t: pulp.LpVariable(f\"x{t}\",lowBound=0, cat='Continous') for t in c.keys() }\n",
        "k = {t: pulp.LpVariable(f\"k{t}\",lowBound=0, cat='Continous') for t in c.keys() }\n",
        "\n",
        "y= [sum(j[p]*(x[i]) for i,j in a.items()) for p in n.keys() ]\n",
        "B = [sum(j[p]*(k[i]) for i,j in a.items()) for p in n.keys() ]\n",
        "\n",
        "# Passo 3: Definir a função objetivo\n",
        "\n",
        "problema +=sum(c[t]*(x[t] + k[t]) for t in c.keys()), \"Função_Objetivo\"\n",
        "\n",
        "print(f\"Função objetivo: {(problema.objective)}\")\n",
        "# Passo 4: Definir as restrições\n",
        "problema += sum(x.values()) == 10,\"Restrição_1\"\n",
        "problema += sum(k.values()) == 6, \"Restrição_2\"\n",
        "problema += y[0]  <= 0.95, \"Restrição_3\"\n",
        "problema += y[1]<= 2, \"Restrição_4\"\n",
        "problema += y[1]>= 1.9, \"Restrição_5\"\n",
        "\n",
        "problema += B[0] <= 0.4*6, \"Restrição_6\"\n",
        "problema += B[1]>= 0.12*6, \"Restrição_7\"\n",
        "problema += B[1]<= 0.19*6, \"Restrição_8\"\n",
        "\n",
        "problema += x['l'] + k['l']<= 5, \"Restrição_9\"\n",
        "problema += x['g'] + k['g']<= 5, \"Restrição_10\"\n",
        "problema += x['s'] + k['s']<= 12, \"Restrição_11\"\n",
        "\n",
        "\n",
        "for name, constraint in problema.constraints.items():\n",
        "    print(f\"{name}: {constraint}\", end='\\n\\n')\n",
        "\n",
        "# Passo 5: Resolver o problema\n",
        "problema.solve()\n",
        "\n",
        "# Passo 6: Exibir o status da solução\n",
        "print(f\"Status: {pulp.LpStatus[problema.status]}\")\n",
        "\n",
        "# Passo 7: Exibir os valores ótimos das variáveis\n",
        "for v in problema.variables():\n",
        "    print(f\"{v.name} = {v.varValue:.2f}\")\n",
        "\n",
        "# Passo 8: Exibir o valor da função objetivo\n",
        "\n",
        "print(f\"Valor ótimo da função objetivo = {pulp.value(problema.objective):.2f}\")\n"
      ],
      "metadata": {
        "id": "GWULXSegdJct",
        "colab": {
          "base_uri": "https://localhost:8080/"
        },
        "outputId": "945e5494-b0a7-47fb-ce64-6ec5d2094ff6"
      },
      "execution_count": 84,
      "outputs": [
        {
          "output_type": "stream",
          "name": "stdout",
          "text": [
            "Função objetivo: 180*kg + 90*kl + 25*ks + 180*xg + 90*xl + 25*xs\n",
            "Restrição_1: xg + xl + xs = 10\n",
            "\n",
            "Restrição_2: kg + kl + ks = 6\n",
            "\n",
            "Restrição_3: 0.9*xg + 0.005*xl + 0.09*xs <= 0.95\n",
            "\n",
            "Restrição_4: 0.14*xl + 0.27*xs <= 2.0\n",
            "\n",
            "Restrição_5: 0.14*xl + 0.27*xs >= 1.9\n",
            "\n",
            "Restrição_6: 0.9*kg + 0.005*kl + 0.09*ks <= 2.4000000000000004\n",
            "\n",
            "Restrição_7: 0.14*kl + 0.27*ks >= 0.72\n",
            "\n",
            "Restrição_8: 0.14*kl + 0.27*ks <= 1.1400000000000001\n",
            "\n",
            "Restrição_9: kl + xl <= 5\n",
            "\n",
            "Restrição_10: kg + xg <= 5\n",
            "\n",
            "Restrição_11: ks + xs <= 12\n",
            "\n",
            "Status: Optimal\n",
            "kg = 1.78\n",
            "kl = 0.00\n",
            "ks = 4.22\n",
            "xg = 0.19\n",
            "xl = 5.00\n",
            "xs = 4.81\n",
            "Valor ótimo da função objetivo = 1029.26\n"
          ]
        }
      ]
    }
  ],
  "metadata": {
    "colab": {
      "provenance": []
    },
    "kernelspec": {
      "display_name": "Python 3",
      "language": "python",
      "name": "python3"
    },
    "language_info": {
      "codemirror_mode": {
        "name": "ipython",
        "version": 3
      },
      "file_extension": ".py",
      "mimetype": "text/x-python",
      "name": "python",
      "nbconvert_exporter": "python",
      "pygments_lexer": "ipython3",
      "version": "3.9.12"
    },
    "vscode": {
      "interpreter": {
        "hash": "375d3134e2271422fd67fc0237b3f1ee69ce72c62d280e2fa6411e6a088e62bf"
      }
    }
  },
  "nbformat": 4,
  "nbformat_minor": 0
}