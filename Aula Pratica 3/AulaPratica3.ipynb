{
  "nbformat": 4,
  "nbformat_minor": 0,
  "metadata": {
    "colab": {
      "provenance": []
    },
    "kernelspec": {
      "name": "python3",
      "display_name": "Python 3"
    },
    "language_info": {
      "name": "python"
    }
  },
  "cells": [
    {
      "cell_type": "markdown",
      "source": [
        "# Aula prática: Programação Linear Inteira"
      ],
      "metadata": {
        "id": "KkkfGB7mizn4"
      }
    },
    {
      "cell_type": "markdown",
      "source": [
        "## Exercício 1\n",
        "<sup>Exercício 3.7 do livro `Pesquisa Operacional` de `Arenales, Armentano, Morabito e Yanasse`.</sup>"
      ],
      "metadata": {
        "id": "6Pq0qYFUi66C"
      }
    },
    {
      "cell_type": "markdown",
      "source": [
        "### Descrição do problema\n",
        "Em cada dia da semana, uma loja requer um número de empregados em tempo integral, de acordo com a tabela abaixo. Cada empregado deve trabalhar cinco dias consecutivos e descansar dois. Cada empregado recebe R$30 por dia.\n",
        "\n",
        "| | Segunda | Terça | Quarta | Quinta | Sexta | Sabádo | Domingo |\n",
        "|:---|:---:|:---:|:---:|:---:|:---:|:---:|:---:|\n",
        "| Empregados | 10 | 6 | 8 | 5 | 9 | 4 | 6 |\n",
        "\n",
        "Determine o número de empregados em tempo integral de forma a minimizar a despesa total com salários."
      ],
      "metadata": {
        "id": "18u4P6_fjHTa"
      }
    },
    {
      "cell_type": "code",
      "source": [
        "!pip install pulp\n"
      ],
      "metadata": {
        "colab": {
          "base_uri": "https://localhost:8080/"
        },
        "id": "8Uqs4mRhzn1q",
        "outputId": "06ccf5f3-963b-4bd4-89bf-991d1f5bf3aa"
      },
      "execution_count": 1,
      "outputs": [
        {
          "output_type": "stream",
          "name": "stdout",
          "text": [
            "Collecting pulp\n",
            "  Downloading PuLP-2.9.0-py3-none-any.whl.metadata (5.4 kB)\n",
            "Downloading PuLP-2.9.0-py3-none-any.whl (17.7 MB)\n",
            "\u001b[2K   \u001b[90m━━━━━━━━━━━━━━━━━━━━━━━━━━━━━━━━━━━━━━━━\u001b[0m \u001b[32m17.7/17.7 MB\u001b[0m \u001b[31m23.6 MB/s\u001b[0m eta \u001b[36m0:00:00\u001b[0m\n",
            "\u001b[?25hInstalling collected packages: pulp\n",
            "Successfully installed pulp-2.9.0\n"
          ]
        }
      ]
    },
    {
      "cell_type": "code",
      "source": [
        "import pulp"
      ],
      "metadata": {
        "id": "bRW3Qn2Nu8X1"
      },
      "execution_count": 4,
      "outputs": []
    },
    {
      "cell_type": "markdown",
      "source": [
        "#### Criação de variaveis"
      ],
      "metadata": {
        "id": "_OMdwrhJvmmL"
      }
    },
    {
      "cell_type": "code",
      "source": [
        "#x1 - segunda-sexta\n",
        "#x2 - terça-sabado\n",
        "#x3 - quarta-domingo\n",
        "#x4 - quinta-segunda\n",
        "#x5 - sexta-terça\n",
        "#x6 - sabado - quarta\n",
        "#x7 - Domingo - quinta\n",
        "\n",
        "#Criação de variaveis\n",
        "x = [pulp.LpVariable(f\"x{i}\", lowBound=0, cat='Integer') for i in range (1,8)]\n"
      ],
      "metadata": {
        "id": "G2ILgfxtt_QX"
      },
      "execution_count": 26,
      "outputs": []
    },
    {
      "cell_type": "markdown",
      "source": [
        "####Criação do modelo"
      ],
      "metadata": {
        "id": "RdFKrVNVwBXi"
      }
    },
    {
      "cell_type": "code",
      "source": [
        "import pulp\n",
        "\n",
        "# Cria um problema de otimização\n",
        "model = pulp.LpProblem(\"Exemplo_MIP\", pulp.LpMinimize)\n",
        "\n",
        "# Define uma função objetivo\n",
        "model += sum(x), \"Objetivo\"\n",
        "\n",
        "# Adiciona algumas restrições\n",
        "\n",
        "\n",
        "model += x[0] + x[3] + x[4] + x[5] + x[6] >= 10\n",
        "model += x[0] + x[1] + x[4] + x[5] + x[6] >= 6\n",
        "model += x[0] + x[1] + x[2] + x[5] + x[6] >= 8\n",
        "model += x[0] + x[1] + x[2] +  x[3] + x[6]  >= 5\n",
        "model += x[0] + x[1] + x[2]+ x[3] + x[4]  >= 9\n",
        "model += x[5] + x[1] + x[2] + x[3] + x[4]  >= 4\n",
        "model += x[5] + x[6] + x[2] + x[3] + x[4]    >= 6\n",
        "\n",
        "# Resolve o modelo\n",
        "model.solve()\n",
        "\n",
        "# Imprime o status da solução\n",
        "print(\"Status:\", pulp.LpStatus[model.status])\n",
        "\n",
        "for name,constraint in model.constraints.items():\n",
        "    print(constraint)\n",
        "\n",
        "print()\n",
        "\n",
        "# Imprime os valores das variáveis\n",
        "for v in model.variables():\n",
        "    print(v.name, \"=\", v.varValue)\n",
        "\n",
        "\n",
        "# Imprime o valor da função objetivo\n",
        "print(\"Valor da função objetivo =\", pulp.value(model.objective))\n"
      ],
      "metadata": {
        "colab": {
          "base_uri": "https://localhost:8080/"
        },
        "id": "jFIBJNIjyun5",
        "outputId": "283a01a7-f874-49b9-c988-1a11d99f4e1e"
      },
      "execution_count": 32,
      "outputs": [
        {
          "output_type": "stream",
          "name": "stdout",
          "text": [
            "Status: Optimal\n",
            "x1 + x4 + x5 + x6 + x7 >= 10\n",
            "x1 + x2 + x5 + x6 + x7 >= 6\n",
            "x1 + x2 + x3 + x6 + x7 >= 8\n",
            "x1 + x2 + x3 + x4 + x7 >= 5\n",
            "x1 + x2 + x3 + x4 + x5 >= 9\n",
            "x2 + x3 + x4 + x5 + x6 >= 4\n",
            "x3 + x4 + x5 + x6 + x7 >= 6\n",
            "\n",
            "x1 = 5.0\n",
            "x2 = 0.0\n",
            "x3 = 1.0\n",
            "x4 = 0.0\n",
            "x5 = 3.0\n",
            "x6 = 0.0\n",
            "x7 = 2.0\n",
            "Valor da função objetivo = 11.0\n"
          ]
        }
      ]
    },
    {
      "cell_type": "markdown",
      "source": [
        "### Resolução"
      ],
      "metadata": {
        "id": "EW2_LyQlkB9Y"
      }
    },
    {
      "cell_type": "markdown",
      "source": [
        "## Exercício 2\n",
        "<sup>Exercício da lista do Professor Marcone Jamilson (UFOP)</sup>"
      ],
      "metadata": {
        "id": "Bzy5FAyisRxv"
      }
    },
    {
      "cell_type": "markdown",
      "source": [
        "### Descrição do problema\n",
        "Uma serralheria dispõe de barras de 6 metros de comprimento que devem ser cortadas para obter barras menores nos seguintes tamanhos: 50 barras de 2 metros, 60 barras de 3 metros e 90 barras de 4 metros. Elabore um modelo de programação linear inteira que minimize a quantidade de barras utilizadas.\n",
        "\n",
        "Dica: enumere as possíveis formas de se cortar uma barra de 6 metros em barras menores dos tamanhos listados acima."
      ],
      "metadata": {
        "id": "ZhYAmS2fso88"
      }
    },
    {
      "cell_type": "markdown",
      "source": [
        "### Resolução"
      ],
      "metadata": {
        "id": "uSjlnbBgsy5M"
      }
    },
    {
      "cell_type": "markdown",
      "source": [
        "####Criação de variaveis"
      ],
      "metadata": {
        "id": "JfzlnTLy06MJ"
      }
    },
    {
      "cell_type": "code",
      "source": [
        "\n",
        "x = [pulp.LpVariable(f\"x{i}\", lowBound=0, cat = 'Integer') for i in range (1,5)]\n",
        "\n",
        "F = { 'x1': 'Cortes em 2,2,2', 'x2': 'Cortes em 3,3', 'x3': 'Cortes em 4,2', 'x4':'Cortes em 3,2'}\n"
      ],
      "metadata": {
        "colab": {
          "base_uri": "https://localhost:8080/"
        },
        "id": "h9f4HyfH2GPe",
        "outputId": "c442f46d-9263-4906-b23c-c7484f60f107"
      },
      "execution_count": 49,
      "outputs": [
        {
          "output_type": "stream",
          "name": "stdout",
          "text": [
            "[x1, x2, x3, x4]\n",
            "Cortes em 2,2,2\n"
          ]
        }
      ]
    },
    {
      "cell_type": "markdown",
      "source": [
        "####Criação do modelo"
      ],
      "metadata": {
        "id": "jnYDciCJ5cs3"
      }
    },
    {
      "cell_type": "code",
      "source": [
        "model = pulp.LpProblem(\"Cortes\", pulp.LpMinimize)\n",
        "\n",
        "\n",
        "# Define uma função objetivo\n",
        "model += sum(x), \"Objetivo\"\n",
        "\n",
        "#adiciona restrição\n",
        "\n",
        "model += 3*x[0] + x[2] + x[3] >= 50 , \"Quantidade de Barras de 2 metros\"\n",
        "model += 2*x[1] + x[3] >= 60, \"Quantidade de barras de 3 metros\"\n",
        "model += x[2] >= 90, \"Quantidade de barras de 4 metros\"\n",
        "\n",
        "\n",
        "# Resolve o modelo\n",
        "model.solve()\n",
        "\n",
        "# Imprime o status da solução\n",
        "print(\"Status:\", pulp.LpStatus[model.status])\n",
        "\n",
        "for name,constraint in model.constraints.items():\n",
        "    print(name, constraint, sep='-->  ')\n",
        "\n",
        "print()\n",
        "\n",
        "# Imprime os valores das variáveis\n",
        "for v in model.variables():\n",
        "    print(F[v.name],\"--->\",v.name, \"=\", v.varValue)\n",
        "\n",
        "\n",
        "# Imprime o valor da função objetivo\n",
        "print(\"Quantidade de Barras usadas: =\", pulp.value(model.objective))\n",
        "\n"
      ],
      "metadata": {
        "id": "VfS8iPfrdZSD",
        "colab": {
          "base_uri": "https://localhost:8080/"
        },
        "outputId": "661a7971-b185-49ab-af57-6390a45e4fa8"
      },
      "execution_count": 52,
      "outputs": [
        {
          "output_type": "stream",
          "name": "stdout",
          "text": [
            "Status: Optimal\n",
            "Quantidade_de_Barras_de_2_metros-->  3*x1 + x3 + x4 >= 50\n",
            "Quantidade_de_barras_de_3_metros-->  2*x2 + x4 >= 60\n",
            "Quantidade_de_barras_de_4_metros-->  x3 >= 90\n",
            "\n",
            "Cortes em 2,2,2 ---> x1 = 0.0\n",
            "Cortes em 3,3 ---> x2 = 30.0\n",
            "Cortes em 4,2 ---> x3 = 90.0\n",
            "Cortes em 3,2 ---> x4 = 0.0\n",
            "Quantidade de Barras usadas: = 120.0\n"
          ]
        }
      ]
    }
  ]
}
