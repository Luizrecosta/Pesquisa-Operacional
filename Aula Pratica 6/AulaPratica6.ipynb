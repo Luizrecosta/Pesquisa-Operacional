{
  "nbformat": 4,
  "nbformat_minor": 0,
  "metadata": {
    "colab": {
      "provenance": [],
      "collapsed_sections": [
        "18u4P6_fjHTa"
      ]
    },
    "kernelspec": {
      "name": "python3",
      "display_name": "Python 3"
    },
    "language_info": {
      "name": "python"
    }
  },
  "cells": [
    {
      "cell_type": "markdown",
      "source": [
        "# Aula prática: Bin Packing\n"
      ],
      "metadata": {
        "id": "KkkfGB7mizn4"
      }
    },
    {
      "cell_type": "markdown",
      "source": [
        "## Exercício 1\n"
      ],
      "metadata": {
        "id": "6Pq0qYFUi66C"
      }
    },
    {
      "cell_type": "markdown",
      "source": [
        "### Descrição do problema\n",
        "Uma faculdade quer agendar as provas de 6 disciplinas. Existe uma regra que proíbe que o mesmo aluno tenha que fazer mais de uma prova por dia. A tabela abaixo mostra quais alunos (identificados por números) vão fazer a prova de cada disciplina. Por exemplo, A e B não podem ser agendadas no mesmo dia por causa do aluno 1. Já B e C poderiam ser agendadas no mesmo dia, pois nenhum aluno vai fazer essas duas provas.\n",
        "\n",
        "| Disciplina | Alunos |\n",
        "|:---:|:---:|\n",
        "| A | 1, 2, 3, 4 |\n",
        "| B | 1, 5 |\n",
        "| C | 3, 6, 7 |\n",
        "| D | 5, 7 |\n",
        "| E | 2, 7 |\n",
        "| F | 4, 5 |\n",
        "\n",
        "Crie um modelo de PLI para agendar essas provas no menor número de dias possível.\n",
        "**Dica: baseie-se no modelo do problema de empacotamento de caixas.**\n"
      ],
      "metadata": {
        "id": "18u4P6_fjHTa"
      }
    },
    {
      "cell_type": "markdown",
      "source": [
        "# Resolução Manual"
      ],
      "metadata": {
        "id": "EW2_LyQlkB9Y"
      }
    },
    {
      "cell_type": "code",
      "execution_count": 1,
      "metadata": {
        "id": "UToKjaulioTm",
        "colab": {
          "base_uri": "https://localhost:8080/"
        },
        "outputId": "f033ca57-fceb-4a7c-cf1a-ac3bfd48987c"
      },
      "outputs": [
        {
          "output_type": "stream",
          "name": "stdout",
          "text": [
            "Collecting pulp\n",
            "  Downloading PuLP-2.9.0-py3-none-any.whl.metadata (5.4 kB)\n",
            "Downloading PuLP-2.9.0-py3-none-any.whl (17.7 MB)\n",
            "\u001b[2K   \u001b[90m━━━━━━━━━━━━━━━━━━━━━━━━━━━━━━━━━━━━━━━━\u001b[0m \u001b[32m17.7/17.7 MB\u001b[0m \u001b[31m31.5 MB/s\u001b[0m eta \u001b[36m0:00:00\u001b[0m\n",
            "\u001b[?25hInstalling collected packages: pulp\n",
            "Successfully installed pulp-2.9.0\n"
          ]
        }
      ],
      "source": [
        "!pip install pulp\n",
        "from pulp import *"
      ]
    },
    {
      "cell_type": "code",
      "source": [
        "import pulp\n",
        "\n",
        "# Criando o problema de otimização\n",
        "modelo = pulp.LpProblem(\"Minimizacao_de_dias\", pulp.LpMinimize)\n",
        "\n",
        "Disciplinas = {'A': ['1','2', '3','4'], 'B' : ['1','5'], 'C': ['3','6','7'], 'D': ['5','7'], 'E':['2','7'], 'F':['4','5']}\n",
        "\n",
        "Dia_maximo = 6\n",
        "\n",
        "# Variáveis de decisão\n",
        "y = {i: pulp.LpVariable(f'y{i}', lowBound=0, cat='Binary') for i in range(1,7)}\n",
        "\n",
        "# Variáveis para cada disciplina e horário\n",
        "x = {f'{i}{j}': pulp.LpVariable(f'x{i}{j}', lowBound=0, cat='Binary') for i in Disciplinas.keys() for j in range(1,7)}\n",
        "\n",
        "# Função objetivo: minimizar o número de dias\n",
        "modelo += sum(y.values()), \"Dias\"\n",
        "\n",
        "# Aluno sem prova no mesmo dia\n",
        "for i in range(1,7):\n",
        "  modelo += x[f'A{i}'] + x[f'B{i}']  <= 1, f\"Restricao_1_{i}\"\n",
        "  modelo += x[f'A{i}'] + x[f'E{i}']  <= 1, f\"Restricao_2_{i}\"\n",
        "  modelo += x[f'A{i}'] + x[f'C{i}']  <= 1, f\"Restricao_3_{i}\"\n",
        "  modelo += x[f'A{i}'] + x[f'F{i}']  <= 1, f\"Restricao_4_{i}\"\n",
        "\n",
        "  modelo += x[f'B{i}'] + x[f'F{i}']  <= 1, f\"Restricao_5_{i}\"\n",
        "  modelo += x[f'B{i}'] + x[f'D{i}']  <= 1, f\"Restricao_6_{i}\"\n",
        "\n",
        "  modelo += x[f'C{i}'] + x[f'D{i}']  <= 1, f\"Restricao_7_{i}\"\n",
        "  modelo += x[f'C{i}'] + x[f'E{i}']  <= 1, f\"Restricao_8_{i}\"\n",
        "\n",
        "\n",
        "  modelo += x[f'D{i}'] + x[f'E{i}']  <= 1, f\"Restricao_9_{i}\"\n",
        "  modelo += x[f'D{i}'] + x[f'F{i}']  <= 1, f\"Restricao_10_{i}\"\n",
        "\n",
        "\n",
        "#Restrução para a prova ser apenas um dia\n",
        "modelo += x['A1'] + x['A2'] + x['A3'] + x['A4'] + x['A5'] + x['A6'] == 1, \"Restricao_8\"\n",
        "modelo += x['B1'] + x['B2'] + x['B3'] + x['B4'] + x['B5'] + x['B6'] == 1, \"Restricao_9\"\n",
        "modelo += x['C1'] + x['C2'] + x['C3'] + x['C4'] + x['C5'] + x['C6'] == 1, \"Restricao_10\"\n",
        "modelo += x['D1'] + x['D2'] + x['D3'] + x['D4'] + x['D5'] + x['D6'] == 1, \"Restricao_11\"\n",
        "modelo += x['E1'] + x['E2'] + x['E3'] + x['E4'] + x['E5'] + x['E6'] == 1, \"Restricao_12\"\n",
        "modelo += x['F1'] + x['F2'] + x['F3'] + x['F4'] + x['F5'] + x['F6'] == 1, \"Restricao_13\"\n",
        "\n",
        "\n",
        "\n",
        "#Restrição para se o Dia j n tiver, n ter a prova nesse dia j\n",
        "modelo += x['A1']  <= y[1]\n",
        "modelo += x['A2']  <= y[2]\n",
        "modelo += x['A3']  <= y[3]\n",
        "modelo += x['A4']  <= y[4]\n",
        "modelo += x['A5']  <= y[5]\n",
        "modelo += x['A6']  <= y[6]\n",
        "\n",
        "modelo += x['B1']  <= y[1]\n",
        "modelo += x['B2']  <= y[2]\n",
        "modelo += x['B3']  <= y[3]\n",
        "modelo += x['B4']  <= y[4]\n",
        "modelo += x['B5']  <= y[5]\n",
        "modelo += x['B6']  <= y[6]\n",
        "\n",
        "modelo += x['C1']  <= y[1]\n",
        "modelo += x['C2']  <= y[2]\n",
        "modelo += x['C3']  <= y[3]\n",
        "modelo += x['C4']  <= y[4]\n",
        "modelo += x['C5']  <= y[5]\n",
        "modelo += x['C6']  <= y[6]\n",
        "\n",
        "modelo += x['D1']  <= y[1]\n",
        "modelo += x['D2']  <= y[2]\n",
        "modelo += x['D3']  <= y[3]\n",
        "modelo += x['D4']  <= y[4]\n",
        "modelo += x['D5']  <= y[5]\n",
        "modelo += x['D6']  <= y[6]\n",
        "\n",
        "modelo += x['E1']  <= y[1]\n",
        "modelo += x['E2']  <= y[2]\n",
        "modelo += x['E3']  <= y[3]\n",
        "modelo += x['E4']  <= y[4]\n",
        "modelo += x['E5']  <= y[5]\n",
        "modelo += x['E6']  <= y[6]\n",
        "\n",
        "modelo += x['F1']  <= y[1]\n",
        "modelo += x['F2']  <= y[2]\n",
        "modelo += x['F3']  <= y[3]\n",
        "modelo += x['F4']  <= y[4]\n",
        "modelo += x['F5']  <= y[5]\n",
        "modelo += x['F6']  <= y[6]\n",
        "\n",
        "\n",
        "# Resolvendo o problema\n",
        "modelo.solve()\n",
        "\n",
        "# Resultados\n",
        "print(\"Status:\", pulp.LpStatus[modelo.status])\n",
        "\n",
        "print(\"Dias:\", pulp.value(modelo.objective))\n",
        "\n",
        "for j in range(1,7):\n",
        "    if pulp.value(y[j]) == 1:\n",
        "        print(f\"Dia {j + 1}:\")\n",
        "        for d_disc in Disciplinas.keys():\n",
        "            if pulp.value(x[f'{d_disc}{j}']) == 1:\n",
        "                print(f\"  - Prova de {d_disc}\")\n"
      ],
      "metadata": {
        "id": "zL3qpuLbkFDK",
        "colab": {
          "base_uri": "https://localhost:8080/"
        },
        "outputId": "94885cbe-6de9-4cfa-824f-b7396cef5f20"
      },
      "execution_count": 46,
      "outputs": [
        {
          "output_type": "stream",
          "name": "stdout",
          "text": [
            "Status: Optimal\n",
            "Dias: 3.0\n",
            "Dia 2:\n",
            "  - Prova de B\n",
            "  - Prova de C\n",
            "Dia 3:\n",
            "  - Prova de A\n",
            "  - Prova de D\n",
            "Dia 5:\n",
            "  - Prova de E\n",
            "  - Prova de F\n"
          ]
        }
      ]
    },
    {
      "cell_type": "markdown",
      "source": [
        "#Vamos deixar mais automático"
      ],
      "metadata": {
        "id": "JD393zlC08_B"
      }
    },
    {
      "cell_type": "code",
      "source": [
        "import pulp\n",
        "\n",
        "# Criando o problema de otimização\n",
        "modelo = pulp.LpProblem(\"Minimizacao_de_dias\", pulp.LpMinimize)\n",
        "\n",
        "Disciplinas = {'A': ['1','2', '3','4'], 'B' : ['1','5'], 'C': ['3','6','7'], 'D': ['5','7'], 'E':['2','7'], 'F':['4','5']}\n",
        "\n",
        "Disciplinas_separadas = {'A': ['B','E','C','F'], 'B':['F','D'], 'C' : ['D','E'], 'D': ['E','F']}\n",
        "\n",
        "Dia_maximo = 6\n",
        "# Variáveis de decisão\n",
        "y = {i: pulp.LpVariable(f'y{i}', lowBound=0, cat='Binary') for i in range(1,7)}\n",
        "\n",
        "# Variáveis para cada disciplina e horário\n",
        "x = {f'{i}{j}': pulp.LpVariable(f'x{i}{j}', lowBound=0, cat='Binary') for i in Disciplinas.keys() for j in range(1,7)}\n",
        "\n",
        "# Função objetivo: minimizar o número de dias\n",
        "modelo += sum(y.values()), \"Dias\"\n",
        "\n",
        "\n",
        "\n",
        "# Aluno sem prova no mesmo dia\n",
        "for i in Disciplinas_separadas.keys():\n",
        "  for j in range(1,7):\n",
        "    for t in Disciplinas_separadas[i]:\n",
        "      modelo += x[f'{i}{j}'] + x[f'{t}{j}']  <= 1\n",
        "\n",
        "#ou:\n",
        "\n",
        "  #for i in Disciplinas_separadas.keys():\n",
        "  #  for t in Disciplinas_separadas[i]:\n",
        "  #    for j in range(1,7):\n",
        "  #     modelo += x[f'{i}{j}'] + x[f'{t}{j}']  <= 1, f\"Restricao_1_{i}\n",
        "\n",
        "\n",
        "\n",
        "#Restrição para a prova ser apenas um dia:\n",
        "soma_de_apenas_um_dia =  [ [x[f'{variavel}{dia}'] for dia in range(1,7)] for variavel in Disciplinas.keys()]\n",
        "for t in soma_de_apenas_um_dia:\n",
        "  modelo += sum(t)==1\n",
        "\n",
        "#Restrição para se o Dia i n tiver, n ter a prova nesse dia i\n",
        "\n",
        "  for i in range(1,7):\n",
        "    for j in Disciplinas.keys():\n",
        "      modelo += x[f'{j}{i}'] <= y[i]\n",
        "\n",
        "# ou:\n",
        "\n",
        "  # for j in Disciplinas.keys():\n",
        "  #    for i in range(1,7):\n",
        "  #     modelo += x[f'{j}{i}'] <= y[i]\n",
        "\n",
        "# Resolvendo o problema\n",
        "modelo.solve()\n",
        "\n",
        "# Resultados\n",
        "print(\"Status:\", pulp.LpStatus[modelo.status])\n",
        "\n",
        "print(\"Dias:\", pulp.value(modelo.objective))\n",
        "\n",
        "for j in range(1,7):\n",
        "    if pulp.value(y[j]) == 1:\n",
        "        print(f\"Dia {j + 1}:\")\n",
        "        for d_disc in Disciplinas.keys():\n",
        "            if pulp.value(x[f'{d_disc}{j}']) == 1:\n",
        "                print(f\"  - Prova de {d_disc}\")\n"
      ],
      "metadata": {
        "colab": {
          "base_uri": "https://localhost:8080/"
        },
        "id": "PjZiCleJtK_2",
        "outputId": "e8c812fc-f4a9-4731-beb3-704907a62ffa"
      },
      "execution_count": 67,
      "outputs": [
        {
          "output_type": "stream",
          "name": "stdout",
          "text": [
            "Status: Optimal\n",
            "Dias: 3.0\n",
            "Dia 2:\n",
            "  - Prova de E\n",
            "  - Prova de F\n",
            "Dia 3:\n",
            "  - Prova de A\n",
            "  - Prova de D\n",
            "Dia 4:\n",
            "  - Prova de B\n",
            "  - Prova de C\n"
          ]
        }
      ]
    }
  ]
}
