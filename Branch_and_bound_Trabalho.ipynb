{
  "nbformat": 4,
  "nbformat_minor": 0,
  "metadata": {
    "colab": {
      "provenance": [],
      "collapsed_sections": [
        "dd4RiWmyu7gM",
        "tQNz_KEsvTiO"
      ]
    },
    "kernelspec": {
      "name": "python3",
      "display_name": "Python 3"
    },
    "language_info": {
      "name": "python"
    }
  },
  "cells": [
    {
      "cell_type": "code",
      "source": [
        "!pip install pulp"
      ],
      "metadata": {
        "colab": {
          "base_uri": "https://localhost:8080/"
        },
        "id": "G1rVZi2WSi5n",
        "outputId": "cdbd60e0-6a53-4771-fc34-58733a263aec"
      },
      "execution_count": null,
      "outputs": [
        {
          "output_type": "stream",
          "name": "stdout",
          "text": [
            "Collecting pulp\n",
            "  Downloading PuLP-2.9.0-py3-none-any.whl.metadata (5.4 kB)\n",
            "Downloading PuLP-2.9.0-py3-none-any.whl (17.7 MB)\n",
            "\u001b[2K   \u001b[90m━━━━━━━━━━━━━━━━━━━━━━━━━━━━━━━━━━━━━━━━\u001b[0m \u001b[32m17.7/17.7 MB\u001b[0m \u001b[31m44.1 MB/s\u001b[0m eta \u001b[36m0:00:00\u001b[0m\n",
            "\u001b[?25hInstalling collected packages: pulp\n",
            "Successfully installed pulp-2.9.0\n"
          ]
        }
      ]
    },
    {
      "cell_type": "markdown",
      "source": [
        "#Lembre de botar os arquivos teste no colab, \"teste1.txt\", \"teste2.txt\", \"teste3.txt\", \"teste4.txt\""
      ],
      "metadata": {
        "id": "ytAXj-ildcNu"
      }
    },
    {
      "cell_type": "markdown",
      "source": [
        "#Classes No e Arvore"
      ],
      "metadata": {
        "id": "k_AL7VfmvdyR"
      }
    },
    {
      "cell_type": "code",
      "source": [
        "class No:\n",
        "    def __init__(self,resultado, indice, valor, variavel):\n",
        "        self.filho_esquerdo = None              # Referência para o filho esquerdo\n",
        "        self.filho_direito = None               # Referência para o filho direito\n",
        "        self.resultado = resultado              # Resultado da função objetivo\n",
        "        self.variavel = variavel                # Lista com valor das variáveis\n",
        "        self.indice = indice                    # Indica qual variável vai ser adicionada nas restrições especificas\n",
        "        self.valor = valor                      # Valores 0 ou 1 para o indice\n",
        "class ArvoreBinaria:\n",
        "    def __init__(self):\n",
        "        self.raiz = None\n",
        "        self.melhor_resultado = float('-inf')  #Melhor resultado\n",
        "        self.variaveis = None                  #Valores das variaveis para chegar no melhor resultado\n",
        "\n",
        "    def inserir(self, no):\n",
        "        if self.raiz is None:\n",
        "            self.raiz = no\n",
        "        else:\n",
        "            self._inserir_recursivo(self.raiz, no)\n",
        "\n",
        "    #[]\n",
        "    #[1]\n",
        "    #[1,0]\n",
        "    #[1,0,1]\n",
        "\n",
        "    def _inserir_recursivo(self, atual, no):\n",
        "\n",
        "        #Vamos inserir à esquerda se o valor do novo nó for 0 e à direita se for 1\n",
        "\n",
        "        if no.valor[len(atual.valor)] == 0:     #Garante que chegue no Nó do qual herdou as caracteristicas\n",
        "            if atual.filho_esquerdo is None:\n",
        "                atual.filho_esquerdo = no\n",
        "            else:\n",
        "                self._inserir_recursivo(atual.filho_esquerdo, no)\n",
        "        else:\n",
        "            if atual.filho_direito is None:\n",
        "                atual.filho_direito = no\n",
        "            else:\n",
        "                self._inserir_recursivo(atual.filho_direito, no)\n",
        "\n",
        "    def resultado_final(self):\n",
        "      print(f'Melhor resultado: {self.melhor_resultado}')\n",
        "      for i in range(len(self.variaveis)):\n",
        "        print(f\"x{i+1} = {self.variaveis[i]}\")"
      ],
      "metadata": {
        "id": "0HHnwXtnvH_K"
      },
      "execution_count": null,
      "outputs": []
    },
    {
      "cell_type": "markdown",
      "source": [
        "#Determinar o elemento mais próximo de 0.5 que não é inteiro"
      ],
      "metadata": {
        "id": "dd4RiWmyu7gM"
      }
    },
    {
      "cell_type": "code",
      "source": [
        "def numero_proximo_05(numeros):\n",
        "\n",
        "    # Filtra os números que não são inteiros\n",
        "    nao_inteiros = [num for num in numeros if num % 1 != 0]\n",
        "\n",
        "    # Se não houver números não inteiros, retorna None\n",
        "    if not nao_inteiros:\n",
        "        return None\n",
        "\n",
        "    # Encontra o número mais próximo de 0.5\n",
        "    mais_proximo = min(nao_inteiros, key=lambda x: abs(x - 0.5))\n",
        "\n",
        "    return mais_proximo"
      ],
      "metadata": {
        "id": "aZv9fnoSoJOc"
      },
      "execution_count": null,
      "outputs": []
    },
    {
      "cell_type": "markdown",
      "source": [
        "#Codigo para capturar os dados do problema"
      ],
      "metadata": {
        "id": "tQNz_KEsvTiO"
      }
    },
    {
      "cell_type": "code",
      "execution_count": null,
      "metadata": {
        "id": "-oovo9EWgknp"
      },
      "outputs": [],
      "source": [
        "from pulp import LpProblem, LpVariable, lpSum, LpStatus, LpMaximize, value #JP\n",
        "#leitura do arquivo\n",
        "def coletar_informacoes(texto):\n",
        "  with open(texto,\"r\") as teste:\n",
        "    linha_variavel_restricao = teste.readlines()\n",
        "\n",
        "\n",
        "  #Tentar tirar os espaços em branco e o \"\\n\", e transformar as strings em numeros inteiros\n",
        "  resultado = []\n",
        "  for item in linha_variavel_restricao:\n",
        "      # Remove os espaços em branco e a nova linha\n",
        "\n",
        "      item = item.strip()\n",
        "\n",
        "      if item:  # Verifica se a string não está vazia\n",
        "          # Divide a string em números, converte para inteiro e adiciona à lista resultado\n",
        "          numeros = list(map(int, item.split()))\n",
        "          resultado.append(numeros)\n",
        "\n",
        "\n",
        "\n",
        "  #Como os arquivos sao padronizados dessa forma, os indices serão os mesmos\n",
        "  variaveis,quant_restricoes = resultado[0][0],resultado[0][1] #Identifica a quantidade de variáveis e quantidade de restrições\n",
        "  resultado.remove(resultado[0])  #Remove essa linha para que facilite na hora de buscar a funcao_objetivo\n",
        "  funcao_objetivo = resultado[0] #Pega a FO\n",
        "  restricoes = resultado[1:] #O restante é restrição\n",
        "\n",
        "\n",
        "\n",
        "  return variaveis,quant_restricoes,funcao_objetivo,restricoes\n",
        "\n",
        "\n"
      ]
    },
    {
      "cell_type": "markdown",
      "source": [
        "#Branch_and_Bound"
      ],
      "metadata": {
        "id": "1REjn-qISqk8"
      }
    },
    {
      "cell_type": "code",
      "source": [
        "from pulp import LpProblem, LpMaximize, LpVariable, LpStatus, value\n",
        "\n",
        "def Branch_and_Bound(Arvore,indice,valor, variaveis, quant_restricoes, funcao_objetivo, restricoes):\n",
        "\n",
        "    if(len(indice) != len(valor)): #Caso venham com tamanhos diferentes\n",
        "      return\n",
        "\n",
        "    model = LpProblem(\"Problema\", LpMaximize)\n",
        "\n",
        "    # Criando as variáveis de decisão\n",
        "    x = [LpVariable(f\"x{i+1}\", lowBound=0, upBound=1, cat='Continuous') for i in range(variaveis)]\n",
        "\n",
        "    # Definindo a função objetivo\n",
        "    model += sum(funcao_objetivo[i] * x[i] for i in range(variaveis)), \"Maximizar\"\n",
        "\n",
        "    # Adicionando restrições tiradas desde o inicio\n",
        "    for i in range(len(restricoes)):\n",
        "        model += sum(restricoes[i][j] * x[j] for j in range(variaveis))  <= restricoes[i][variaveis]\n",
        "\n",
        "    #Restrições especificas\n",
        "    if(len(indice)):\n",
        "        for i in range(len(indice)):\n",
        "            model += x[indice[i]] == valor[i], f\"Restrição_{i}\"\n",
        "\n",
        "\n",
        "    # Resolvendo o modelo\n",
        "    model.solve()\n",
        "\n",
        "    #Tentar cortar por inviabilidade\n",
        "    if LpStatus[model.status] in ('Infeasible','Unbounded','Undefined'):\n",
        "        return\n",
        "\n",
        "    #Tentar cortar por limitante\n",
        "    if(Arvore.melhor_resultado > value(model.objective)):\n",
        "      return\n",
        "\n",
        "    #Vamos colocar os resultados\n",
        "    # lista_resultados = [round(var.varValue,2) for var in x]\n",
        "    lista_resultados = [var.varValue for var in x]\n",
        "\n",
        "    Arvore.inserir(No(value(model.objective),indice,valor,lista_resultados)) #Inserir na árvore o nó\n",
        "    # Verificar se todos os resultados são inteiros\n",
        "    t = numero_proximo_05(lista_resultados)\n",
        "    if t is  None:\n",
        "        Arvore.melhor_resultado = value(model.objective)\n",
        "        Arvore.variaveis = lista_resultados\n",
        "        return #vai cortar por integralidade\n",
        "\n",
        "    #Pega o indice do valor fracionário mais perto de 0.5\n",
        "    indix = lista_resultados.index(t)\n",
        "\n",
        "    indices = indice + [indix] #As restrições do pai + a nova restrição do filho\n",
        "\n",
        "\n",
        "    valores1, valores2 = valor + [1] , valor + [0] # Os possiveis valores que a variável fracionária pode assumir.\n",
        "\n",
        "\n",
        "    #Chama a função recursivamente\n",
        "    Branch_and_Bound(Arvore, indices, valores2, variaveis, quant_restricoes, funcao_objetivo, restricoes)\n",
        "    Branch_and_Bound(Arvore, indices,valores1, variaveis, quant_restricoes, funcao_objetivo, restricoes)\n",
        "\n",
        "\n"
      ],
      "metadata": {
        "id": "1MiHwHbsSuca"
      },
      "execution_count": null,
      "outputs": []
    },
    {
      "cell_type": "code",
      "source": [
        "def problema(variaveis, quant_restricoes, funcao_objetivo, restricoes):\n",
        "  Arvore = ArvoreBinaria()\n",
        "  Branch_and_Bound(Arvore,[],[], variaveis, quant_restricoes, funcao_objetivo, restricoes)\n",
        "  Arvore.resultado_final()"
      ],
      "metadata": {
        "id": "YjlMuRM0U50m"
      },
      "execution_count": null,
      "outputs": []
    },
    {
      "cell_type": "markdown",
      "source": [
        "#Inicalização automática"
      ],
      "metadata": {
        "id": "aZPQS2wBVsED"
      }
    },
    {
      "cell_type": "code",
      "source": [
        " #Lembre de adicionar os arquivos testes ao colab com esses nomes.\n",
        "lista_de_testes = [\"teste1.txt\",\"teste2.txt\",\"teste3.txt\",\"teste4.txt\"]\n",
        "for i in lista_de_testes:\n",
        "  variaveis, quant_restricoes, funcao_objetivo, restricoes = coletar_informacoes(i)\n",
        "  problema(variaveis, quant_restricoes, funcao_objetivo, restricoes)"
      ],
      "metadata": {
        "colab": {
          "base_uri": "https://localhost:8080/"
        },
        "id": "bTgn6rZ7NHWY",
        "outputId": "eec8a0f0-0f43-46c7-df81-6e2e48695a67"
      },
      "execution_count": null,
      "outputs": [
        {
          "output_type": "stream",
          "name": "stdout",
          "text": [
            "Melhor resultado: 20.0\n",
            "x1 = 0.0\n",
            "x2 = 1.0\n",
            "x3 = 0.0\n",
            "x4 = 0.0\n",
            "x5 = 1.0\n",
            "x6 = 0.0\n",
            "x7 = 0.0\n",
            "Melhor resultado: 24.0\n",
            "x1 = 0.0\n",
            "x2 = 0.0\n",
            "x3 = 0.0\n",
            "x4 = 0.0\n",
            "x5 = 0.0\n",
            "x6 = 1.0\n",
            "x7 = 1.0\n",
            "x8 = 0.0\n",
            "x9 = 1.0\n",
            "Melhor resultado: 19.0\n",
            "x1 = 0.0\n",
            "x2 = 0.0\n",
            "x3 = 1.0\n",
            "x4 = 0.0\n",
            "x5 = 0.0\n",
            "x6 = 0.0\n",
            "x7 = 1.0\n",
            "x8 = 0.0\n",
            "x9 = 0.0\n",
            "Melhor resultado: 10.0\n",
            "x1 = 0.0\n",
            "x2 = 0.0\n",
            "x3 = 1.0\n",
            "x4 = 0.0\n",
            "x5 = 0.0\n",
            "x6 = 0.0\n",
            "x7 = 0.0\n",
            "x8 = 0.0\n",
            "x9 = 0.0\n"
          ]
        }
      ]
    }
  ]
}