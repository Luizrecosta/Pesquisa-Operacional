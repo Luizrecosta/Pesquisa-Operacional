{
 "cells": [
  {
   "cell_type": "markdown",
   "metadata": {},
   "source": [
    "\n",
    "# Questão 1"
   ]
  },
  {
   "cell_type": "markdown",
   "metadata": {},
   "source": [
    "<img src = \"Q1.jpeg\">\n"
   ]
  },
  {
   "cell_type": "markdown",
   "metadata": {},
   "source": [
    "### Minimizar\n",
    "$$\n",
    "\\text{Minimizar: } 50000y_1 + 40000y_2 + 30000y_3 + 10x_{11} + 7x_{12} + 6.5x_{13} + 8x_{21} + 9x_{22} + 10x_{23} + 13x_{31} + 16x_{32} + 12.6x_{33}\n",
    "$$\n",
    "\n",
    "### Restrições de demanda:\n",
    "$$\n",
    "x_{11} + x_{21} + x_{31} = 12300\n",
    "$$\n",
    "$$\n",
    "x_{12} + x_{22} + x_{32} = 15400\n",
    "$$\n",
    "$$\n",
    "x_{13} + x_{23} + x_{33} = 13300\n",
    "$$\n",
    "\n",
    "### Restrições de capacidade:\n",
    "$$\n",
    "x_{11} + x_{12} + x_{13} \\leq 11500y_1\n",
    "$$\n",
    "$$\n",
    "x_{21} + x_{22} + x_{23} \\leq 16500y_2\n",
    "$$\n",
    "$$\n",
    "x_{31} + x_{32} + x_{33} \\leq 13000y_3\n",
    "$$\n",
    "\n",
    "### Não negatividade do \\(x\\) e binariedade do \\(y\\):\n",
    "$$\n",
    "x_{ij} \\geq 0 \\quad \\forall i,j\n",
    "$$\n",
    "$$\n",
    "y_i \\in \\{0,1\\} \\quad \\forall i\n",
    "$$\n"
   ]
  },
  {
   "cell_type": "markdown",
   "metadata": {},
   "source": [
    "# Questão 2\n"
   ]
  },
  {
   "cell_type": "markdown",
   "metadata": {},
   "source": [
    "<img src = \"Q5.jpeg\">"
   ]
  },
  {
   "cell_type": "markdown",
   "metadata": {},
   "source": [
    "### Maximizar\n",
    "$$\n",
    "\\text{Maximizar: } 400(x_{at} + x_{bt} + x_{ct}) + 300(x_{al} + x_{bl} + x_{cl}) + 100(x_{as} + x_{bs} + x_{cs})\n",
    "$$\n",
    "\n",
    "### Restrições das áreas:\n",
    "$$\n",
    "x_{at} + x_{al} + x_{as} \\leq 400\n",
    "$$\n",
    "$$\n",
    "x_{bt} + x_{bl} + x_{bs} \\leq 600\n",
    "$$\n",
    "$$\n",
    "x_{ct} + x_{cl} + x_{cs} \\leq 300\n",
    "$$\n",
    "\n",
    "### Restrições de área máxima por produto:\n",
    "$$\n",
    "x_{at} + x_{bt} + x_{ct} \\leq 600\n",
    "$$\n",
    "$$\n",
    "x_{al} + x_{bl} + x_{cl} \\leq 500\n",
    "$$\n",
    "$$\n",
    "x_{as} + x_{bs} + x_{cs} \\leq 325\n",
    "$$\n",
    "\n",
    "### Consumo de água:\n",
    "$$\n",
    "3x_{at} + 2x_{al} + x_{as} \\leq 600\n",
    "$$\n",
    "$$\n",
    "3x_{bt} + 2x_{bl} + x_{bs} \\leq 800\n",
    "$$\n",
    "$$\n",
    "3x_{ct} + 2x_{cl} + x_{cs} \\leq 375\n",
    "$$\n",
    "\n",
    "### Variáveis positivas:\n",
    "$$\n",
    "x_{ij} \\geq 0 \\quad \\forall i,j\n",
    "$$\n"
   ]
  },
  {
   "cell_type": "markdown",
   "metadata": {},
   "source": [
    "# Questão 3\n"
   ]
  },
  {
   "cell_type": "markdown",
   "metadata": {},
   "source": [
    "<img src=\"Q6.jpeg\">"
   ]
  },
  {
   "cell_type": "markdown",
   "metadata": {},
   "source": [
    "### Variáveis:\n",
    "$$ (x_1): Cortes \\quad 2, 2, 2 \\\\\n",
    "    (x_2): Cortes \\quad 3, 3 \\\\\n",
    "    (x_3): Cortes \\quad 4, 2 \\\\\n",
    "    (x_4): Cortes \\quad 3, 5 $$ \n",
    "\n",
    "### Minimizar:\n",
    "$$\n",
    "\\text{Minimizar: } x_1 + x_2 + x_3 + x_4\n",
    "$$\n",
    "\n",
    "### Restrições para demanda:\n",
    "$$\n",
    "3x_1 + x_2 \\geq 50\n",
    "$$\n",
    "$$\n",
    "2x_2 + x_4 \\geq 60\n",
    "$$\n",
    "$$\n",
    "x_3 \\geq 90\n",
    "$$\n",
    "\n",
    "### Variáveis positivas inteiras:\n",
    "$$\n",
    "x_1, x_2, x_3, x_4 \\geq 0 \\quad \\text{e inteiros}\n",
    "$$\n"
   ]
  },
  {
   "cell_type": "markdown",
   "metadata": {},
   "source": [
    "# Questão 4"
   ]
  },
  {
   "cell_type": "markdown",
   "metadata": {},
   "source": [
    "<img src = \"Q7.jpeg\">"
   ]
  },
  {
   "cell_type": "markdown",
   "metadata": {},
   "source": [
    "### Variáveis:\n",
    "$$ \n",
    "(x_1): \\text{ Cortes } \\quad 2 \\text{ barras de } 8 \\text{ cm}^2 \\text{ e } 1 \\text{ barra de } 28 \\text{ cm}^2 \\\\ \n",
    "(x_2): \\text{ Cortes } \\quad 1, 1, 1 \\text{ resto} \\\\ \n",
    "(x_3): \\text{ Cortes } \\quad 2, 1 \\\\ \n",
    "(x_4): \\text{ Cortes } \\quad 5, 0 \n",
    "$$ \n",
    "\n",
    "### Minimizar:\n",
    "$$\n",
    "\\text{Minimizar: } 30000y_1 + 22000y_2\n",
    "$$\n",
    "\n",
    "### Restrições para demanda:\n",
    "$$\n",
    "2x_1 + x_2 + 2x_3 + 5x_4 \\geq 2000\n",
    "$$\n",
    "$$\n",
    "x_1 + x_2 + x_3 \\geq 1000\n",
    "$$\n",
    "\n",
    "### Cálculo das quantidades:\n",
    "$$\n",
    "y_1 = \\frac{x_2 + x_4}{750}\n",
    "$$\n",
    "$$\n",
    "y_2 = \\frac{x_1 + x_3}{500}\n",
    "$$\n",
    "\n",
    "### Variáveis positivas inteiras:\n",
    "$$\n",
    "x_1, x_2, x_3, x_4 \\geq 0 \\quad \\text{e inteiros}\n",
    "$$\n"
   ]
  },
  {
   "cell_type": "markdown",
   "metadata": {},
   "source": [
    "# Questão 5\n"
   ]
  },
  {
   "cell_type": "markdown",
   "metadata": {},
   "source": [
    "<img src= \"Q9.jpeg\">"
   ]
  },
  {
   "cell_type": "markdown",
   "metadata": {},
   "source": [
    "### Variáveis:\n",
    "$$ \n",
    "(x_1): \\text{ Inspetor 1} \\quad \\text{Quantidade: } 8 \\\\ \n",
    "(x_2): \\text{ Inspetor 2} \\quad \\text{Quantidade: } 10 \n",
    "$$ \n",
    "\n",
    "### Cálculo do custo por hora:\n",
    "$$\n",
    "\\text{Custo do Inspetor 1: } C_{x_1} = 4 + \\left( 25 \\times 0,05 \\right) = 6,5 \n",
    "$$\n",
    "$$\n",
    "\\text{Custo do Inspetor 2: } C_{x_2} = 3 + \\left( 25 \\times 0,05 \\right) = 4,5 \n",
    "$$\n",
    "\n",
    "### Minimizar:\n",
    "$$\n",
    "\\text{Minimizar: } 8 \\left( 6,5 x_1 + 4,5 x_2 \\right)\n",
    "$$\n",
    "\n",
    "### Restrições para peças:\n",
    "$$\n",
    "x_1 \\leq 8\n",
    "$$\n",
    "$$\n",
    "x_2 \\leq 10\n",
    "$$\n",
    "$$\n",
    "200x_1 + 120x_2 \\geq 1800\n",
    "$$\n",
    "\n",
    "### Variáveis não negativas:\n",
    "$$\n",
    "x_1, x_2 \\geq 0\n",
    "$$\n"
   ]
  },
  {
   "cell_type": "markdown",
   "metadata": {},
   "source": [
    "# Questão 6\n"
   ]
  },
  {
   "cell_type": "markdown",
   "metadata": {},
   "source": [
    "<img src=\"Q11.jpeg\">"
   ]
  },
  {
   "cell_type": "markdown",
   "metadata": {},
   "source": [
    "### Variáveis:\n",
    "$$ \n",
    "(x_1): \\text{ 1 leito} \\\\ \n",
    "(x_2): \\text{ 2 leitos} \\\\ \n",
    "(x_3): \\text{ 3 leitos} \n",
    "$$ \n",
    "\n",
    "### Restrições:\n",
    "$$\n",
    "\\text{Quartos máximos: } x_1 + x_2 + x_3 \\leq 70\n",
    "$$\n",
    "$$\n",
    "\\text{Leitos mínimos: } x_1 + 2x_2 + 3x_3 \\geq 120\n",
    "$$\n",
    "\n",
    "$$\n",
    "T = x_1 + x_2 + x_3\n",
    "$$\n",
    "\n",
    "$$\n",
    "x_1 \\geq 0,15T \\quad \\Rightarrow \\quad x_1 \\geq 0,15(x_1 + x_2 + x_3) \\quad \\Rightarrow \\quad 0,85x_1 - 0,15x_2 - 0,15x_3 \\geq 0 \n",
    "$$\n",
    "$$\n",
    "x_1 \\leq 0,3T \\quad \\Rightarrow \\quad x_1 \\leq 0,3(x_1 + x_2 + x_3) \\quad \\Rightarrow \\quad 0,7x_1 - 0,3x_2 - 0,3x_3 \\leq 0 \n",
    "$$\n",
    "\n",
    "### Funções a Maximizar:\n",
    "\n",
    "$\n",
    "\\text{a)}\\quad\\max(x_1 + 2 \\cdot 0,8x_2 + 3 \\cdot 0,8x_3) \\quad \\text{Pacientes por mão de obra}\n",
    "$\n",
    "\n",
    " \n",
    "$\n",
    "\\text{b)}\\quad\\max\\left(1 \\cdot \\frac{1}{3}x_3 + 2 \\cdot \\frac{1}{2}x_2 + 1 \\cdot x_1\\right) \\quad \\text{(Recebe de cada paciente)}\n",
    "$\n",
    "\n",
    " \n",
    "$\n",
    "\\text{c)}\\quad\\max(x_1 + 2x_2 + 3x_3)\n",
    "$\n",
    "\n",
    "\n",
    "$\n",
    "\\text{d)}\\quad\\min(10x_1 + 14x_2 + 17x_3)\n",
    "$\n"
   ]
  },
  {
   "cell_type": "markdown",
   "metadata": {},
   "source": [
    "# Questão 8"
   ]
  },
  {
   "cell_type": "markdown",
   "metadata": {},
   "source": [
    "<img src = \"Q14.jpeg\">"
   ]
  },
  {
   "cell_type": "markdown",
   "metadata": {},
   "source": [
    "### Variáveis:\n",
    "$$ \n",
    "x_{ij}: \\text{ Binária, sendo } i \\text{ a mochila e } j \\text{ o produto} \n",
    "$$\n",
    "\n",
    "### Pesos e Retornos:\n",
    "$$ \n",
    "W_j: \\text{ Pesos dos produtos} \\\\ \n",
    "P_j: \\text{ Retornos dos produtos} \\\\ \n",
    "b_i: \\text{ Capacidade da mochila } i \\\\ \n",
    "N: \\text{ Número de objetos} \n",
    "$$\n",
    "\n",
    "### Função a Maximizar:\n",
    "$$\n",
    "\\max\\left( \\sum_{i=1}^{m} \\sum_{j=1}^{n} P_j \\cdot x_{ij} \\right)\n",
    "$$\n",
    "\n",
    "### Restrições:\n",
    "1. **Restrição de bagagem:**\n",
    "   $$ \n",
    "   \\sum_{j=1}^{n} W_j \\cdot x_{ij} \\leq b_i \\quad \\text{ para cada } i \\text{ em } m \n",
    "   $$\n",
    "\n",
    "2. **Restrição de seleção de produtos:**\n",
    "   $$ \n",
    "   \\sum_{i=1}^{m} x_{ij} \\leq 1 \\quad \\text{ para cada } j \\text{ em } n \n",
    "   $$\n"
   ]
  },
  {
   "cell_type": "code",
   "execution_count": null,
   "metadata": {},
   "outputs": [],
   "source": []
  },
  {
   "cell_type": "markdown",
   "metadata": {},
   "source": [
    "# Questão 9\n"
   ]
  },
  {
   "cell_type": "markdown",
   "metadata": {},
   "source": [
    "<img src= \"Q17.jpeg\">"
   ]
  },
  {
   "cell_type": "markdown",
   "metadata": {},
   "source": [
    "### Variáveis:\n",
    "$$ \n",
    "M: \\text{ Locais para fábricas} \\\\ \n",
    "N: \\text{ Clientes} \\\\ \n",
    "F_i: \\text{ Custo de produção para cada fábrica} \\\\ \n",
    "P_i: \\text{ Capacidade de produção por fábrica} \\\\ \n",
    "C_{ij}: \\text{ Custo de transporte da fábrica } i \\text{ para o cliente } j \\\\ \n",
    "D_j: \\text{ Demanda do cliente } j \\\\ \n",
    "x_{ij}: \\text{ Quantidade enviada da fábrica } i \\text{ para o cliente } j \\\\ \n",
    "y_i: \\text{ Variáveis binárias (se a fábrica } i \\text{ está ativa)} \n",
    "$$\n",
    "\n",
    "### Função a Minimizar:\n",
    "$$\n",
    "\\text{Minimizar: } \\sum_{i=1}^{M} \\sum_{j=1}^{N} C_{ij} x_{ij} + \\sum_{k=1}^{M} F_k y_k\n",
    "$$\n",
    "\n",
    "### Restrições:\n",
    "1. **Atender a demanda do cliente:**\n",
    "   $$ \n",
    "   \\sum_{i=1}^{M} x_{ij} \\geq D_j \\quad \\text{ para cada } j \\text{ em } N \n",
    "   $$\n",
    "\n",
    "2. **Respeitar a capacidade:**\n",
    "   $$ \n",
    "   \\sum_{j=1}^{N} x_{ij} \\leq P_i \\quad \\text{ para cada } i \\text{ em } M \n",
    "   $$\n",
    "\n",
    "### Exemplo com 2 fábricas e 2 clientes:\n",
    "- Fábricas:\n",
    "  - \\( F_1 = 1, F_2 = 2 \\)\n",
    "  - Capacidades: \\( P_1 = 23, P_2 = 34 \\)\n",
    "  \n",
    "- Custos de transporte:\n",
    "  - \\( C_{11} = 15, C_{12} = 22 \\)\n",
    "  - \\( C_{21} = 16, C_{22} = 20 \\)\n",
    "  \n",
    "- Demandas:\n",
    "  - \\( D_1 = 12, D_2 = 8 \\)\n",
    "\n",
    "### Variáveis Inteiras:\n",
    "$$\n",
    "\\text{Minimizar: } 15m_{1_1} + 22m_{2_1} + 16m_{1_2} + 20m_{2_2} + y_1 + 2y_2\n",
    "$$\n",
    "\n",
    "### Restrições para a demanda:\n",
    "$$\n",
    "m_{1_1} + m_{2_1} \\geq 12\n",
    "$$\n",
    "$$\n",
    "m_{1_2} + m_{2_2} \\geq 8\n",
    "$$\n",
    "\n",
    "### Respeitar a capacidade:\n",
    "$$\n",
    "m_{1_1} + m_{1_2} \\leq 23y_1 \n",
    "$$\n",
    "$$\n",
    "m_{2_1} + m_{2_2} \\leq 34y_2 \n",
    "$$\n"
   ]
  }
 ],
 "metadata": {
  "kernelspec": {
   "display_name": "Python 3",
   "language": "python",
   "name": "python3"
  },
  "language_info": {
   "codemirror_mode": {
    "name": "ipython",
    "version": 3
   },
   "file_extension": ".py",
   "mimetype": "text/x-python",
   "name": "python",
   "nbconvert_exporter": "python",
   "pygments_lexer": "ipython3",
   "version": "3.10.0"
  }
 },
 "nbformat": 4,
 "nbformat_minor": 2
}
