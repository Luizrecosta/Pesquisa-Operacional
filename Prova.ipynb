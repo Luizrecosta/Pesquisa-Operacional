{
 "cells": [
  {
   "cell_type": "markdown",
   "metadata": {},
   "source": [
    "\n",
    "# Questão 1"
   ]
  },
  {
   "cell_type": "markdown",
   "metadata": {},
   "source": [
    "<img src = \"Q1.jpeg\">\n"
   ]
  },
  {
   "cell_type": "code",
   "execution_count": 1,
   "metadata": {},
   "outputs": [],
   "source": [
    "\n",
    "#Min(50000*y1 + 40000*y2 + 30000*y3 + 10*x1 +7*x12 +6,5*x13 + 8*x21+ 9*x22+ 10*x23+ \n",
    "#13*x31+ 16*x32+ 12,6*x33)\n",
    "\n",
    "#Restrições De demanda\n",
    "\n",
    "#x11 + x21 + x31 =12300\n",
    "#x12 + x22 + x32 =15400\n",
    "#x13 + x23 + x33 =13300\n",
    "\n",
    "#Restrições de capacidade \n",
    "\n",
    "#x11 + x12 + x13 <=11500*y1\n",
    "#x21 + x22 + x23 <= 16500*y2\n",
    "#x31 + x32 + x33 <= 13000*y3\n",
    "\n",
    "#Não negatividade do x e binariedade dp y"
   ]
  },
  {
   "cell_type": "markdown",
   "metadata": {},
   "source": [
    "# Questão 2\n"
   ]
  },
  {
   "cell_type": "markdown",
   "metadata": {},
   "source": [
    "<img src = \"Q5.jpeg\">"
   ]
  },
  {
   "cell_type": "code",
   "execution_count": null,
   "metadata": {},
   "outputs": [],
   "source": [
    "Max(400*(xat +xbt +xct) + 300*(xal +xbl + xcl) + 100*(xas + xbs + xcs))\n",
    "\n",
    "\n",
    "#Restrições das áreas\n",
    "\n",
    "xat + xal + xas <= 400\n",
    "xbt + xbl + xbs <= 600\n",
    "xct+ xcl +xcs <=300\n",
    "\n",
    "#Restrições de area maxima por produto\n",
    "xat + xbt +xct <=600\n",
    "xal + xbl + xcl <= 500\n",
    "xas + xbs + xcs <=325 \n",
    "\n",
    "\n",
    "#Consumo de agua \n",
    "\n",
    "3*xat + 2*xal + xas <= 600\n",
    "3*xbt + 2*xbl + xbs <= 800\n",
    "3*xct + 2*xcl + xcs <= 375\n",
    "\n",
    "#Variaveis positivas "
   ]
  },
  {
   "cell_type": "markdown",
   "metadata": {},
   "source": [
    "# Questão 3\n"
   ]
  },
  {
   "cell_type": "markdown",
   "metadata": {},
   "source": [
    "<img src=\"Q6.jpeg\">"
   ]
  },
  {
   "cell_type": "code",
   "execution_count": null,
   "metadata": {},
   "outputs": [],
   "source": [
    "#Variaveis \n",
    "#x1 -> Cortes 2,2,2\n",
    "#x2 -> Cortes 3,3\n",
    "#x3 -> cortes 4,2 \n",
    "#x4 -> cortes 3,5\n",
    "\n",
    "min(x1+x2+x3+x4)\n",
    "\n",
    "#Restrições para demanda\n",
    "\n",
    "3*x1 + x2 >= 50\n",
    "2*x2 + x4 >= 60\n",
    "x3 >= 90\n",
    "\n",
    "#Variaveis positivas inteiras "
   ]
  },
  {
   "cell_type": "markdown",
   "metadata": {},
   "source": [
    "# Questão 4"
   ]
  },
  {
   "cell_type": "markdown",
   "metadata": {},
   "source": [
    "<img src = \"Q7.jpeg\">"
   ]
  },
  {
   "cell_type": "code",
   "execution_count": null,
   "metadata": {},
   "outputs": [],
   "source": [
    "#Criação de variaveis\n",
    "#x1 -> 2 da de 8cm^2 e 1 de 28cm^2\n",
    "#x2 -> 1,1, 1resto\n",
    "#x3 -> 2,1\n",
    "#x4 -> 5,0\n",
    "\n",
    "#y1 -> quantidade da de 30.000\n",
    "#y2 -> quanttidade da de 22.000\n",
    "\n",
    "\n",
    "#Minimizar a quantidade de barras\n",
    "Min(30000*y1 + 22000*y2)\n",
    "\n",
    "#Demanda\n",
    "2x1 +  x2  + 2x3 + 5x4 >= 2000\n",
    "x1 +x2 + x3 >= 1000\n",
    "\n",
    "#Calcular a quantidade de barras y1,y2\n",
    "\n",
    "#de 1 barra de y1, virá 1 pequena , 1 grande e resto 1 , de 1 barra y1, pode vir 5 da pequena\n",
    "y1 = (x2+x4)/750\n",
    "\n",
    "\n",
    "\n",
    "y2 = (x1+x3)/500\n"
   ]
  },
  {
   "cell_type": "markdown",
   "metadata": {},
   "source": [
    "# Questão 5\n"
   ]
  },
  {
   "cell_type": "markdown",
   "metadata": {},
   "source": [
    "<img src= \"Q9.jpeg\">"
   ]
  },
  {
   "cell_type": "code",
   "execution_count": null,
   "metadata": {},
   "outputs": [],
   "source": [
    "Quantidade de inspetores 1 - 8\n",
    "Quantidade de inspetores 2 - 10\n",
    "\n",
    "x1 - Inspetor 1\n",
    "x2 - Inspetor 2\n",
    "\n",
    "#Calcular o custo por hora\n",
    "\n",
    "#Custo do inspetor 1 = salario/hora + (Peças/hora*(falha na inspeção))\n",
    "Custo x1 = 4 +(25*0,05) = 6,5\n",
    "Custo x2 = 3 +(25*0,05) = 4,5\n",
    "\n",
    "\n",
    "Min(8*(6,5*x1 + 4,5*x2))\n",
    "\n",
    "#Peças nas 8 horas\n",
    "x1<=8\n",
    "x2<= 10\n",
    "200*x1 + 120*x2 >= 1800\n"
   ]
  },
  {
   "cell_type": "markdown",
   "metadata": {},
   "source": [
    "# Questão 6\n"
   ]
  },
  {
   "cell_type": "markdown",
   "metadata": {},
   "source": [
    "<img src=\"Q11.jpeg\">"
   ]
  },
  {
   "cell_type": "code",
   "execution_count": 1,
   "metadata": {},
   "outputs": [
    {
     "ename": "SyntaxError",
     "evalue": "unmatched ')' (253122902.py, line 20)",
     "output_type": "error",
     "traceback": [
      "\u001b[1;36m  Cell \u001b[1;32mIn[1], line 20\u001b[1;36m\u001b[0m\n\u001b[1;33m    a) Max(x1 + 2*0.8*x2 +3*0.8*x3) #Pacientes por mão de\u001b[0m\n\u001b[1;37m     ^\u001b[0m\n\u001b[1;31mSyntaxError\u001b[0m\u001b[1;31m:\u001b[0m unmatched ')'\n"
     ]
    }
   ],
   "source": [
    "1 leito - x1\n",
    "2 leitos - x2\n",
    "3 leitos - x3\n",
    "\n",
    "\n",
    "\n",
    "\n",
    "#Restrição geral:\n",
    "\n",
    "#Quartos max\n",
    "x1 + x2 + x3 <=70\n",
    "#Leitos minimos\n",
    "x1 + 2*x2 + 3*x3 >= 120\n",
    "\n",
    "T = x1 + x2 + x3\n",
    "\n",
    "x1 >= 0,15*T -> x1 >= 0,15*x1 + 0,15*x2 + 0,15*x3 -> 0,85*x1 - 0,15*x2 - 0,15*x3 >=0  \n",
    "x1 <= 0,3*T -> x1 <= 0,3*x1 + 0,3*x2 + 0,3*x3 -> 0,7*x1 - 0,3*x2 - 0,3*x3 <= 0\n",
    "\n",
    "a) Max(x1 + 2*0.8*x2 +3*0.8*x3) #Pacientes por mão de\n",
    "\n",
    "b) Max(1*1/3*x3 + 2*1/2*x2 + 1*1x1) # RECEBE DE CADA PACIENTE , \n",
    "\n",
    "c)Max(x1 + 2*x2 + 3x*3)\n",
    "\n",
    "d)Min(10*x1 + 14*x2 + 17*x3)\n",
    "\n"
   ]
  },
  {
   "cell_type": "markdown",
   "metadata": {},
   "source": [
    "<img src= \"Q13.jpeg\">"
   ]
  },
  {
   "cell_type": "code",
   "execution_count": 2,
   "metadata": {},
   "outputs": [
    {
     "ename": "SyntaxError",
     "evalue": "invalid decimal literal (1453713033.py, line 1)",
     "output_type": "error",
     "traceback": [
      "\u001b[1;36m  Cell \u001b[1;32mIn[2], line 1\u001b[1;36m\u001b[0m\n\u001b[1;33m    x1 -> 24h-3h\u001b[0m\n\u001b[1;37m           ^\u001b[0m\n\u001b[1;31mSyntaxError\u001b[0m\u001b[1;31m:\u001b[0m invalid decimal literal\n"
     ]
    }
   ],
   "source": [
    "x1 -> 24h-3h\n",
    "x2-> 3h-6h\n",
    "x3-> 6h-9h\n",
    "x4 - 9h-12h\n",
    "x5 - 12h-15h\n",
    "x6 - 15h-18h\n",
    "x7- 18h-21h\n",
    "x8 - 21h-24h\n",
    "\n",
    "y1 -> preço por enfemeiro\n",
    "\n",
    "\n",
    "\n",
    "#Quantidade minima\n",
    "\n",
    "x8+ x1 >= 30\n",
    "x1 + x2>= 20\n",
    "x2 + x3 >= 40\n",
    "x3 + x4>=50\n",
    "x4 + x5>=60\n",
    "x5 + x6>= 50\n",
    "x6 + x7>=40 \n",
    "x7 + x8>= 40\n",
    "\n",
    "#COMPLICADAAAAAAAAAAAAAAAAAAA"
   ]
  },
  {
   "cell_type": "markdown",
   "metadata": {},
   "source": [
    "# Questão 8"
   ]
  },
  {
   "cell_type": "markdown",
   "metadata": {},
   "source": [
    "<img src = \"Q14.jpeg\">"
   ]
  },
  {
   "cell_type": "code",
   "execution_count": null,
   "metadata": {},
   "outputs": [],
   "source": [
    "Variaveis Xij Binaria, sendo i a mochila e j o produto\n",
    "Pesos Wj\n",
    "Retorno Pj\n",
    "Capacidade bi\n",
    "N objetos \n",
    "\n",
    "Max(Sum(Sum(Pj * xij) for i in m) for i in n)\n",
    "\n",
    "#Restrições\n",
    "\n",
    "#Restrição de bagagem]\n",
    "for i in m:\n",
    "    Sum(wj * xij for j in n ) <= bi;\n",
    "\n",
    "for j in n:\n",
    "    Sum(Xij for i in m) <=1 \n",
    "\n",
    "\n",
    "\n"
   ]
  },
  {
   "cell_type": "markdown",
   "metadata": {},
   "source": [
    "# Questão 9\n"
   ]
  },
  {
   "cell_type": "markdown",
   "metadata": {},
   "source": [
    "<img src= \"Q17.jpeg\">"
   ]
  },
  {
   "cell_type": "code",
   "execution_count": null,
   "metadata": {},
   "outputs": [],
   "source": [
    "M Locais para fabricas\n",
    "N clientes \n",
    "Fi o custo de produção para cada fabrica\n",
    "Pi capacidade de produção por fabrica\n",
    "Cij Custo de transporte da fabrica i para o cliente j\n",
    "Dj Demanda do cliente j\n",
    "xij - o fabrica i manda pro cliente j\n",
    "Minimizar custo\n",
    "\n",
    "Min(sum(sum(cij*xij) for i in m) for j in N + (sum(Fk*yk) for k in m))\n",
    "\n",
    "#Atender demanda do cliente\n",
    "\n",
    "for j in N:\n",
    "    sum(xij for i in M)\n",
    "\n",
    "#Respeitar a capacidade\n",
    "\n",
    "for i in M:\n",
    "    sum(xij for j in N) <= Pi\n",
    "\n",
    "#Exemplo menor para entender\n",
    "2 Locais pra fabricas\n",
    "2 clientes\n",
    "Fi = {1,2}\n",
    "Pi = {23,34}\n",
    "Cij= {15,22/16,20}\n",
    "Dj = {12,8}\n",
    "\n",
    "yi = VARIAVEIS BINARIAS \n",
    "\n",
    "m1_1 , m1_2, m2_1, m2_2  (VARIAVEIS INTEIRAS)\n",
    "\n",
    "Minimizar(15*m1_1 + 22*m2_1 + 16*m1_2 + 20*m2_2 + y1 + 2*y2)  \n",
    "\n",
    "#Atender a demanda do cliente\n",
    "\n",
    "m1_1 + m2_1 >= 12\n",
    "m1_2 + m2_2 >= 8\n",
    "\n",
    "#Respeitar a capacidade\n",
    "m1_1 + m1_2 <=23*y1               \n",
    "m2_1 + m2_2 <=34*y2\n",
    "\n",
    "\n",
    "\n",
    "\n",
    "\n",
    "\n",
    "\n",
    "\n",
    "\n",
    "\n",
    "\n",
    "\n",
    "\n"
   ]
  }
 ],
 "metadata": {
  "kernelspec": {
   "display_name": "Python 3",
   "language": "python",
   "name": "python3"
  },
  "language_info": {
   "codemirror_mode": {
    "name": "ipython",
    "version": 3
   },
   "file_extension": ".py",
   "mimetype": "text/x-python",
   "name": "python",
   "nbconvert_exporter": "python",
   "pygments_lexer": "ipython3",
   "version": "3.10.0"
  }
 },
 "nbformat": 4,
 "nbformat_minor": 2
}
