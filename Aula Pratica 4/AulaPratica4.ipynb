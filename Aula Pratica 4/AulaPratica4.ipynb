{
  "cells": [
    {
      "cell_type": "markdown",
      "metadata": {
        "id": "qDPM4byI4rXz"
      },
      "source": [
        "# Aula prática: Destinação de Produtos à Fabricas\n",
        "<sup>Exemplo do capítulo 8.3 do livro `Introdução à Pesquisa Operacional` de `Hillier e Lieberman`.</sup>"
      ]
    },
    {
      "cell_type": "markdown",
      "metadata": {
        "id": "17Ur_xiu43Om"
      },
      "source": [
        "## Exercício 1"
      ]
    },
    {
      "cell_type": "markdown",
      "metadata": {
        "id": "S_ECUHr85U0V"
      },
      "source": [
        "### Descrição do problema\n",
        "A Cia. Produtos Melhores decidiu iniciar a produção de quatro produtos novos usando três fábricas que, no momento, têm excesso de capacidade produtiva. Os produtos requerem um esforço de produção comparável por unidade, de modo que a capacidade produtiva disponível das fábricas seja medida pelo número de unidades de qualquer produto que possa ser produzido diariamente, conforme dado na tabela 1. A tabela 2 fornece a taxa de produção diária necessária para atender às vendas projetadas. Cada fábrica é capaz de produzir qualquer um desses produtos, exceto a Fábrica 2, que não pode fabricar o produto 3. Os custos variáveis por unidade de cada produto diferem de fábrica para fábrica, conforme a tabela 3.\n",
        "\n",
        "Tabela 1: Capacidade de produção disponível, por unidade do produto\n",
        "\n",
        "| | Fábrica 1 | Fábrica 2 | Fábrica 3 |\n",
        "|:---|:---:|:---:|:---:|\n",
        "| Capacidade disponível | 75 | 75 | 45 |\n",
        "\n",
        "Tabela 2: Demanda de produção diária\n",
        "\n",
        "| | Produto 1 | Produto 2 | Produto 3 | Produto 4 |\n",
        "|:---|:---:|:---:|:---:|:---:|\n",
        "| Demanda | 20 | 30 | 30 | 40 |\n",
        "\n",
        "Tabela 3: Custo unitário por produto\n",
        "\n",
        "| | Produto 1 | Produto 2 | Produto 3 | Produto 4 |\n",
        "|:---|:---:|:---:|:---:|:---:|\n",
        "| Fábrica 1 | 41 | 27 | 28 | 24 |\n",
        "| Fábrica 2 | 40 | 29 | - | 23 |\n",
        "| Fábrica 3 | 37 | 30 | 27 | 21 |\n",
        "\n",
        "A gerência precisa tomar uma decisão sobre como dividir a fabricação dos produtos entre as fábricas, e decidiu permitir a divisão da produção de um mesmo produto em mais de uma fábrica.\n",
        "\n",
        "Escreva um modelo para determinar quais fábricas produzirão quais produtos e a que custo total."
      ]
    },
    {
      "cell_type": "markdown",
      "metadata": {
        "id": "r0sGHJD97MIz"
      },
      "source": [
        "### Resolução"
      ]
    },
    {
      "cell_type": "code",
      "execution_count": 2,
      "metadata": {
        "id": "Fm0Dc8uR7Qsz",
        "outputId": "b1e23096-2f8c-44b8-d182-410a24731e8f",
        "colab": {
          "base_uri": "https://localhost:8080/"
        }
      },
      "outputs": [
        {
          "output_type": "stream",
          "name": "stdout",
          "text": [
            "Collecting pulp\n",
            "  Downloading PuLP-2.9.0-py3-none-any.whl.metadata (5.4 kB)\n",
            "Downloading PuLP-2.9.0-py3-none-any.whl (17.7 MB)\n",
            "\u001b[2K   \u001b[90m━━━━━━━━━━━━━━━━━━━━━━━━━━━━━━━━━━━━━━━━\u001b[0m \u001b[32m17.7/17.7 MB\u001b[0m \u001b[31m51.7 MB/s\u001b[0m eta \u001b[36m0:00:00\u001b[0m\n",
            "\u001b[?25hInstalling collected packages: pulp\n",
            "Successfully installed pulp-2.9.0\n"
          ]
        }
      ],
      "source": [
        "# instalação e importação do pacote mip\n",
        "!pip install pulp"
      ]
    },
    {
      "cell_type": "markdown",
      "source": [
        "##Manual"
      ],
      "metadata": {
        "id": "AoWE_Lge7rA0"
      }
    },
    {
      "cell_type": "code",
      "execution_count": 60,
      "metadata": {
        "id": "jP4fukpK7X1h",
        "colab": {
          "base_uri": "https://localhost:8080/"
        },
        "outputId": "8768a2f0-2d30-490b-a08c-5b4f384173f0"
      },
      "outputs": [
        {
          "output_type": "stream",
          "name": "stdout",
          "text": [
            "Status: Optimal\n",
            "x12 = 30.0\n",
            "x13 = 30.0\n",
            "x24 = 15.0\n",
            "x31 = 20.0\n",
            "x34 = 25.0\n",
            "Valor da função objetivo =  3260.0\n"
          ]
        },
        {
          "output_type": "stream",
          "name": "stderr",
          "text": [
            "/usr/local/lib/python3.10/dist-packages/pulp/pulp.py:1650: UserWarning: Overwriting previously set objective.\n",
            "  warnings.warn(\"Overwriting previously set objective.\")\n"
          ]
        }
      ],
      "source": [
        "from pulp import LpMinimize, LpProblem, LpVariable, lpSum, value, LpStatus\n",
        "\n",
        "# Criação do modelo\n",
        "model = LpProblem(name=\"minimization_problem\", sense=LpMinimize)\n",
        "\n",
        "# Adicionar variáveis\n",
        "for i in range(1,4):\n",
        "  for j in range(1,5):\n",
        "    model += LpVariable(f\"x{i}{j}\", lowBound=0, cat='Integer')\n",
        "\n",
        "# Definir a função objetivo\n",
        "model += (41*x11 + 27*x12 + 28*x13 + 24*x14 +\n",
        "          40*x21 + 29*x22 + 23*x24 +\n",
        "          37*x31 + 30*x32 + 27*x33 + 21*x34), \"Objective\"\n",
        "\n",
        "# Adicionar restrições\n",
        "model += (x11 + x12 + x13 + x14 <= 75), \"Constraint1\"\n",
        "model += (x21 + x22 + x24 <= 75), \"Constraint2\"\n",
        "model += (x31 + x32 + x33 + x34 <= 45), \"Constraint3\"\n",
        "\n",
        "model += (x11 + x21 + x31 >= 20), \"Constraint4\"\n",
        "model += (x12 + x22 + x32 >= 30), \"Constraint5\"\n",
        "model += (x13 + x33 >= 30), \"Constraint6\"\n",
        "model += (x14 + x24 + x34 >= 40), \"Constraint7\"\n",
        "\n",
        "# Resolver o modelo\n",
        "model.solve()\n",
        "\n",
        "# Verificar e imprimir resultados\n",
        "print(\"Status:\", LpStatus[model.status])\n",
        "for var in model.variables():\n",
        "    if(var.varValue==0):\n",
        "      continue\n",
        "    print(f\"{var.name} = {var.varValue}\")\n",
        "print(\"Valor da função objetivo = \", value(model.objective))\n"
      ]
    },
    {
      "cell_type": "markdown",
      "metadata": {
        "id": "aMs1wHIugRae"
      },
      "source": [
        "## Exercício 2\n",
        "\n",
        "Refaça o modelo anterior, dessa vez impedindo a divisão de produtos entre fábricas. Ou seja, cada produto deve ser integralmente produzido em uma única fábrica, para eliminar custos ocultos associados à divisão da produção. A cada fábrica deve ser destinado pelo menos um produto."
      ]
    },
    {
      "cell_type": "markdown",
      "metadata": {
        "id": "gKJj1JLUgRag"
      },
      "source": [
        "### Resolução"
      ]
    },
    {
      "cell_type": "code",
      "execution_count": 61,
      "metadata": {
        "id": "92okSArZgRah",
        "colab": {
          "base_uri": "https://localhost:8080/"
        },
        "outputId": "ba52bd72-708b-4c07-c75b-20bfe6646490"
      },
      "outputs": [
        {
          "output_type": "stream",
          "name": "stdout",
          "text": [
            "Status: Optimal\n",
            "x12 = 30.0\n",
            "x13 = 30.0\n",
            "x21 = 20.0\n",
            "x34 = 40.0\n",
            "Valor da função objetivo =  3290.0\n"
          ]
        }
      ],
      "source": [
        "from pulp import LpMinimize, LpProblem, LpVariable, lpSum, value, LpStatus\n",
        "\n",
        "# Criação do modelo\n",
        "model = LpProblem(name=\"minimization_problem\", sense=LpMinimize)\n",
        "\n",
        "# Adicionar variáveis\n",
        "for i in range(1,4):\n",
        "  for j in range(1,5):\n",
        "    model += LpVariable(f\"x{i}{j}\", lowBound=0, cat='Integer')\n",
        "\n",
        "\n",
        "# Adicionar variáveis\n",
        "for i in range(1,4):\n",
        "  for j in range(1,5):\n",
        "    model += LpVariable(f\"y{i}{j}\", lowBound=0, cat='Integer')\n",
        "\n",
        "\n",
        "# Definir a função objetivo\n",
        "model += (41*x11 + 27*x12 + 28*x13 + 24*x14 +\n",
        "          40*x21 + 29*x22 + 23*x24 +\n",
        "          37*x31 + 30*x32 + 27*x33 + 21*x34), \"Objective\"\n",
        "\n",
        "# Adicionar restrições\n",
        "model += (x11 + x12 + x13 + x14 <= 75), \"Constraint1\"\n",
        "model += (x21 + x22 + x24 <= 75), \"Constraint2\"\n",
        "model += (x31 + x32 + x33 + x34 <= 45), \"Constraint3\"\n",
        "\n",
        "model += x11 >= 20 * y11\n",
        "model += x12 >= 30 * y12\n",
        "model += x13 >= 30 * y13\n",
        "model += x14 >= 40 * y14\n",
        "model += x21 >= 20 * y21\n",
        "model += x22 >= 30 * y22\n",
        "model += x24 >= 40 * y24\n",
        "model += x31 >= 20 * y31\n",
        "model += x32 >= 30 * y32\n",
        "model += x33 >= 30 * y33\n",
        "model += x34 >= 40 * y34\n",
        "\n",
        "model += y11 + y12 + y13 + y14 >= 1\n",
        "model += y21 + y22 +  y24 >= 1\n",
        "model += y31 + y32 + y33 + y34 >=1\n",
        "\n",
        "model += y21 + y31 + y11 == 1\n",
        "model += y22 + y12 +  y32 == 1\n",
        "model += y13 + y33 ==1\n",
        "model += y14 + y34 + y24 ==1\n",
        "\n",
        "\n",
        "# Resolver o modelo\n",
        "model.solve()\n",
        "\n",
        "# Verificar e imprimir resultados\n",
        "print(\"Status:\", LpStatus[model.status])\n",
        "for var in model.variables():\n",
        "    if(var.name ==\"y11\"):\n",
        "      break\n",
        "    if(var.varValue==0):\n",
        "      continue\n",
        "    print(f\"{var.name} = {var.varValue}\")\n",
        "print(\"Valor da função objetivo = \", value(model.objective))\n"
      ]
    },
    {
      "cell_type": "code",
      "execution_count": null,
      "metadata": {
        "id": "D0hi2a4UgRai"
      },
      "outputs": [],
      "source": []
    }
  ],
  "metadata": {
    "colab": {
      "provenance": []
    },
    "kernelspec": {
      "display_name": "Python 3",
      "name": "python3"
    },
    "language_info": {
      "codemirror_mode": {
        "name": "ipython",
        "version": 3
      },
      "file_extension": ".py",
      "mimetype": "text/x-python",
      "name": "python",
      "nbconvert_exporter": "python",
      "pygments_lexer": "ipython3",
      "version": "3.8.10"
    }
  },
  "nbformat": 4,
  "nbformat_minor": 0
}
